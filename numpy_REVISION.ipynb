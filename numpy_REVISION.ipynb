{
 "cells": [
  {
   "cell_type": "markdown",
   "id": "2b8364db-2335-46f1-b893-43973182ba86",
   "metadata": {},
   "source": [
    "# numpy_REVISION"
   ]
  },
  {
   "cell_type": "code",
   "execution_count": 1,
   "id": "f01a482d-faae-4fed-a2af-d01e481a2f11",
   "metadata": {},
   "outputs": [],
   "source": [
    "import numpy as np"
   ]
  },
  {
   "cell_type": "code",
   "execution_count": 4,
   "id": "347b8401-12cf-4c39-98a2-b03b7be9ae3c",
   "metadata": {},
   "outputs": [
    {
     "name": "stdout",
     "output_type": "stream",
     "text": [
      "<class 'numpy.ndarray'>\n"
     ]
    }
   ],
   "source": [
    "myarr = np.array([1,2,3,4])\n",
    "print(type(myarr))"
   ]
  },
  {
   "cell_type": "code",
   "execution_count": 6,
   "id": "d56237a2-297c-40be-9638-2b88b0e89b29",
   "metadata": {},
   "outputs": [
    {
     "data": {
      "text/plain": [
       "(4,)"
      ]
     },
     "execution_count": 6,
     "metadata": {},
     "output_type": "execute_result"
    }
   ],
   "source": [
    "myarr.shape"
   ]
  },
  {
   "cell_type": "code",
   "execution_count": 8,
   "id": "2b6b5f70-86b5-4e04-9bbc-eafd1868a0b9",
   "metadata": {},
   "outputs": [
    {
     "data": {
      "text/plain": [
       "array([[1, 2],\n",
       "       [3, 4]])"
      ]
     },
     "execution_count": 8,
     "metadata": {},
     "output_type": "execute_result"
    }
   ],
   "source": [
    "myarr.reshape(2,-1)"
   ]
  },
  {
   "cell_type": "code",
   "execution_count": 10,
   "id": "4e30b84c-2652-4251-843f-c4c83e042018",
   "metadata": {},
   "outputs": [
    {
     "data": {
      "text/plain": [
       "array([[1, 2],\n",
       "       [3, 4]])"
      ]
     },
     "execution_count": 10,
     "metadata": {},
     "output_type": "execute_result"
    }
   ],
   "source": [
    "arr = np.array([[1,2],[3,4]])\n",
    "arr"
   ]
  },
  {
   "cell_type": "code",
   "execution_count": 18,
   "id": "1fd105b9-cfa7-4c03-8490-26d0698ab9de",
   "metadata": {},
   "outputs": [
    {
     "data": {
      "text/plain": [
       "array([[1],\n",
       "       [2],\n",
       "       [3],\n",
       "       [4]])"
      ]
     },
     "execution_count": 18,
     "metadata": {},
     "output_type": "execute_result"
    }
   ],
   "source": [
    "arr.reshape(4,-1)"
   ]
  },
  {
   "cell_type": "code",
   "execution_count": 30,
   "id": "8a5fbbcd-4e58-4e24-b6cc-7f4b1dd4e023",
   "metadata": {},
   "outputs": [
    {
     "name": "stdout",
     "output_type": "stream",
     "text": [
      "Before reshaping the array:\n",
      "  [[ 1  2  3  4  5]\n",
      " [ 6  7  8  9 10]\n",
      " [11 12 13 14 15]\n",
      " [16 17 18 19 20]]\n",
      "After reshaping the array:\n",
      "  [[ 1  2  3  4]\n",
      " [ 5  6  7  8]\n",
      " [ 9 10 11 12]\n",
      " [13 14 15 16]\n",
      " [17 18 19 20]]\n"
     ]
    }
   ],
   "source": [
    "#Problem: Create a 2D NumPy array of shape (4, 5) with values ranging from 1 to 20. Reshape the array to (5, 4) and then print it.\n",
    "\n",
    "x = [[1,2,3,4,5],[6,7,8,9,10],[11,12,13,14,15],[16,17,18,19,20]]\n",
    "arr = np.array(x)\n",
    "print(\"Before reshaping the array:\\n \",arr)\n",
    "print(\"After reshaping the array:\\n \",arr.reshape(5,4))"
   ]
  },
  {
   "cell_type": "code",
   "execution_count": 83,
   "id": "a9d56048-d377-49d1-88fc-74eb0241aacc",
   "metadata": {},
   "outputs": [
    {
     "name": "stdout",
     "output_type": "stream",
     "text": [
      "[[90 78]\n",
      " [22 18]]\n"
     ]
    }
   ],
   "source": [
    "# Problem: Given the following 2D NumPy array, extract a subarray consisting of the 2nd and 3rd rows and the 1st and 2nd columns.\n",
    "\n",
    "D2=[[45,6,23],[90,78,2],[22,18,0],[78,2,99]]\n",
    "arr=np.array(D2)\n",
    "print(arr[1:3,0:2])"
   ]
  },
  {
   "cell_type": "code",
   "execution_count": null,
   "id": "a82d30cc-d7a7-4566-a2a6-ed37e2dd65dd",
   "metadata": {},
   "outputs": [],
   "source": [
    "#Problem: Create a 5x5 array with random integers between 1 and 10. Then, compute the mean, median, and standard deviation of the array.\n",
    "import numpy as np\n",
    "\n",
    "arr = np.random.randint(1, 11, size=(5, 5))\n",
    "\n",
    "mean = np.mean(arr)\n",
    "median = np.median(arr)\n",
    "std_dev = np.std(arr)\n",
    "\n",
    "print(\"Array:\")\n",
    "print(arr)\n",
    "print(\"\\nMean:\", mean)\n",
    "print(\"Median:\", median)\n",
    "print(\"Standard Deviation:\", std_dev)"
   ]
  },
  {
   "cell_type": "markdown",
   "id": "4e695a55-2d1a-4df3-b8ee-ff96233bf890",
   "metadata": {},
   "source": [
    "# numpy Broadcasting "
   ]
  },
  {
   "cell_type": "code",
   "execution_count": 101,
   "id": "ee1dbb94-bb47-4b42-be8d-9bfe854381c4",
   "metadata": {},
   "outputs": [
    {
     "name": "stdout",
     "output_type": "stream",
     "text": [
      "[ 8 10 13]\n",
      "\n",
      "[[5 6 7]\n",
      " [6 7 8]\n",
      " [7 8 9]]\n",
      "\n",
      "\n",
      "[[ 2  4  6]\n",
      " [ 6  8 10]\n",
      " [ 8 10 12]]\n"
     ]
    }
   ],
   "source": [
    "\"\"\" rule no.1: dimensions must be same \n",
    "    rule no.2: if the dimensions are not same then check the demensions from right hand side\n",
    "    if the first values from the both arrays right hand side is same then it can continue \n",
    "    or either of that right hand sidde value is one then it can continue otherwise break \"\"\"\n",
    "\n",
    "import numpy as np \n",
    "\n",
    "arr1 = np.array([1,2,4])#1D array\n",
    "arr2= np.array([7,8,9])#1D array\n",
    "print(arr1+arr2)#executed because both arrays had same dimensions\n",
    "\n",
    "print()\n",
    "\n",
    "arr1 = np.array([1,2,3])\n",
    "arr2 = np.array([[4],[5],[6]])\n",
    "print(arr1+arr2)#arr1.shape = (1 x 3) arr2.shape= (3 x 1) executed because one of the right hand side is 1 \n",
    "\n",
    "print()\n",
    "\n",
    "\n",
    "arr1=np.array([1,2,3])\n",
    "arr2=np.array([[1,2,],[5,6],[7,8]])\n",
    "print(arr1+arr2)#break because neither dimension is same nor the right hand side iss same or 1\n",
    "\n",
    "print()\n",
    "\n",
    "arr1=np.array([1,2,3])\n",
    "arr2=np.array([[1,2,3],[5,6,7],[7,8,9]])\n",
    "print(arr1+arr2)#executed because arr1=(1,3) and arr=(3,3) both right hand side is 3==3\n",
    "\n"
   ]
  },
  {
   "cell_type": "code",
   "execution_count": null,
   "id": "0639e4db-c803-4147-8a8f-7975cb4ceafb",
   "metadata": {},
   "outputs": [],
   "source": []
  }
 ],
 "metadata": {
  "kernelspec": {
   "display_name": "Python 3 (ipykernel)",
   "language": "python",
   "name": "python3"
  },
  "language_info": {
   "codemirror_mode": {
    "name": "ipython",
    "version": 3
   },
   "file_extension": ".py",
   "mimetype": "text/x-python",
   "name": "python",
   "nbconvert_exporter": "python",
   "pygments_lexer": "ipython3",
   "version": "3.11.5"
  },
  "widgets": {
   "application/vnd.jupyter.widget-state+json": {
    "state": {},
    "version_major": 2,
    "version_minor": 0
   }
  }
 },
 "nbformat": 4,
 "nbformat_minor": 5
}
