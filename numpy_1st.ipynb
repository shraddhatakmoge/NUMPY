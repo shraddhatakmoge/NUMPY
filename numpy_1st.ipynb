{
 "cells": [
  {
   "cell_type": "markdown",
   "id": "d26eccfa-3b48-450e-bd2d-3d2381f82090",
   "metadata": {},
   "source": [
    "# NUMPY"
   ]
  },
  {
   "cell_type": "code",
   "execution_count": 2,
   "id": "0781512f-c63c-46b7-8f22-4a1155304e10",
   "metadata": {},
   "outputs": [],
   "source": [
    "import numpy as np "
   ]
  },
  {
   "cell_type": "code",
   "execution_count": 3,
   "id": "79bd8291-bcbf-4724-b18c-8b69f2049570",
   "metadata": {},
   "outputs": [
    {
     "data": {
      "text/plain": [
       "array([  1,   3, 474,   5])"
      ]
     },
     "execution_count": 3,
     "metadata": {},
     "output_type": "execute_result"
    }
   ],
   "source": [
    "arr=np.array([1,3,474,5],np.int32)\n",
    "arr"
   ]
  },
  {
   "cell_type": "code",
   "execution_count": 4,
   "id": "08a09eac-0dfa-4127-b333-571ae24c322e",
   "metadata": {},
   "outputs": [
    {
     "data": {
      "text/plain": [
       "numpy.ndarray"
      ]
     },
     "execution_count": 4,
     "metadata": {},
     "output_type": "execute_result"
    }
   ],
   "source": [
    "type(arr)"
   ]
  },
  {
   "cell_type": "code",
   "execution_count": 5,
   "id": "9138d996-383b-4cca-84b9-f62908350856",
   "metadata": {},
   "outputs": [
    {
     "data": {
      "text/plain": [
       "1"
      ]
     },
     "execution_count": 5,
     "metadata": {},
     "output_type": "execute_result"
    }
   ],
   "source": [
    "arr[0]"
   ]
  },
  {
   "cell_type": "code",
   "execution_count": 6,
   "id": "291f605d-d12d-4aad-b446-d3ec2c453036",
   "metadata": {},
   "outputs": [
    {
     "data": {
      "text/plain": [
       "474"
      ]
     },
     "execution_count": 6,
     "metadata": {},
     "output_type": "execute_result"
    }
   ],
   "source": [
    "arr[2]"
   ]
  },
  {
   "cell_type": "code",
   "execution_count": 7,
   "id": "c4545c04-0c3e-4abc-b291-da231495501f",
   "metadata": {},
   "outputs": [
    {
     "data": {
      "text/plain": [
       "5"
      ]
     },
     "execution_count": 7,
     "metadata": {},
     "output_type": "execute_result"
    }
   ],
   "source": [
    "arr[3]"
   ]
  },
  {
   "cell_type": "code",
   "execution_count": 8,
   "id": "5d40911a-4f50-40d1-8847-1d2c4b61ebec",
   "metadata": {},
   "outputs": [
    {
     "data": {
      "text/plain": [
       "array([[ 1,  2,  3,  4,  5],\n",
       "       [ 6,  7,  9,  4, 10]])"
      ]
     },
     "execution_count": 8,
     "metadata": {},
     "output_type": "execute_result"
    }
   ],
   "source": [
    "myarr=np.array([[1,2,3,4,5],[6,7,9,4,10]])\n",
    "myarr"
   ]
  },
  {
   "cell_type": "code",
   "execution_count": 9,
   "id": "84a40632-4fd9-4f83-94e4-74b82ab4ff62",
   "metadata": {},
   "outputs": [
    {
     "data": {
      "text/plain": [
       "2"
      ]
     },
     "execution_count": 9,
     "metadata": {},
     "output_type": "execute_result"
    }
   ],
   "source": [
    "myarr[0,1]"
   ]
  },
  {
   "cell_type": "code",
   "execution_count": 10,
   "id": "25d930cb-42cd-4be5-880c-dd508907bee6",
   "metadata": {},
   "outputs": [
    {
     "data": {
      "text/plain": [
       "5"
      ]
     },
     "execution_count": 10,
     "metadata": {},
     "output_type": "execute_result"
    }
   ],
   "source": [
    "myarr[0,4]"
   ]
  },
  {
   "cell_type": "code",
   "execution_count": 11,
   "id": "f617dec6-664b-4032-b675-e3c1d1ed16a5",
   "metadata": {},
   "outputs": [
    {
     "data": {
      "text/plain": [
       "9"
      ]
     },
     "execution_count": 11,
     "metadata": {},
     "output_type": "execute_result"
    }
   ],
   "source": [
    "myarr[1,2]"
   ]
  },
  {
   "cell_type": "code",
   "execution_count": 12,
   "id": "613d749c-00fb-41bd-8853-04921ec3dd59",
   "metadata": {},
   "outputs": [
    {
     "data": {
      "text/plain": [
       "(2, 5)"
      ]
     },
     "execution_count": 12,
     "metadata": {},
     "output_type": "execute_result"
    }
   ],
   "source": [
    "myarr.shape"
   ]
  },
  {
   "cell_type": "code",
   "execution_count": 13,
   "id": "de5bdaf7-0a9b-4181-9350-68b6be1a2726",
   "metadata": {},
   "outputs": [
    {
     "data": {
      "text/plain": [
       "dtype('int32')"
      ]
     },
     "execution_count": 13,
     "metadata": {},
     "output_type": "execute_result"
    }
   ],
   "source": [
    "myarr.dtype"
   ]
  },
  {
   "cell_type": "code",
   "execution_count": 14,
   "id": "ea8175c7-9f2d-459b-9a68-47a7760af7eb",
   "metadata": {},
   "outputs": [
    {
     "name": "stdout",
     "output_type": "stream",
     "text": [
      "[b'1' b'2' b'3' b'4']\n",
      "|S1\n"
     ]
    }
   ],
   "source": [
    "\n",
    "\n",
    "arr = np.array([1, 2, 3, 4], dtype='S')\n",
    "\n",
    "print(arr)\n",
    "print(arr.dtype)\n"
   ]
  },
  {
   "cell_type": "code",
   "execution_count": 15,
   "id": "f3a78f9d-731e-4d23-947e-aa2be629e824",
   "metadata": {},
   "outputs": [
    {
     "data": {
      "text/plain": [
       "array([[ 1,  2,  3,  4,  5],\n",
       "       [ 6,  7,  9,  4, 10]])"
      ]
     },
     "execution_count": 15,
     "metadata": {},
     "output_type": "execute_result"
    }
   ],
   "source": [
    "myarr"
   ]
  },
  {
   "cell_type": "code",
   "execution_count": 16,
   "id": "b94aef1b-f6b3-42c9-89ba-c061ffac0f65",
   "metadata": {},
   "outputs": [],
   "source": [
    "myarr[0,3]=14"
   ]
  },
  {
   "cell_type": "code",
   "execution_count": 17,
   "id": "c7975d2b-d7ad-40a9-88bd-be0009c187b9",
   "metadata": {},
   "outputs": [
    {
     "data": {
      "text/plain": [
       "array([[ 1,  2,  3, 14,  5],\n",
       "       [ 6,  7,  9,  4, 10]])"
      ]
     },
     "execution_count": 17,
     "metadata": {},
     "output_type": "execute_result"
    }
   ],
   "source": [
    "myarr"
   ]
  },
  {
   "cell_type": "code",
   "execution_count": 18,
   "id": "4b71e0ee-e98c-499c-a547-13341a5dbceb",
   "metadata": {},
   "outputs": [],
   "source": [
    "import numpy as n\n",
    "\n",
    "arr1=n.array([11,23,45])"
   ]
  },
  {
   "cell_type": "code",
   "execution_count": 19,
   "id": "b5d2fb54-d509-4e10-9569-e94c1f19756b",
   "metadata": {},
   "outputs": [
    {
     "data": {
      "text/plain": [
       "array([11, 23, 45])"
      ]
     },
     "execution_count": 19,
     "metadata": {},
     "output_type": "execute_result"
    }
   ],
   "source": [
    "arr1"
   ]
  },
  {
   "cell_type": "code",
   "execution_count": 20,
   "id": "4a2a67c1-1426-4f5a-8160-49832145bc33",
   "metadata": {},
   "outputs": [
    {
     "data": {
      "text/plain": [
       "array([1, 3, 4, 5])"
      ]
     },
     "execution_count": 20,
     "metadata": {},
     "output_type": "execute_result"
    }
   ],
   "source": [
    "newarr=np.array((1,3,4,5))\n",
    "newarr"
   ]
  },
  {
   "cell_type": "markdown",
   "id": "9591ca04-0f4c-4301-85b4-7133fb56059f",
   "metadata": {},
   "source": [
    "# Array Creation - Conversion from other python structures"
   ]
  },
  {
   "cell_type": "markdown",
   "id": "3d494e9f-fa12-4a1c-a678-88605271e28d",
   "metadata": {},
   "source": [
    "**From LIST**"
   ]
  },
  {
   "cell_type": "code",
   "execution_count": 23,
   "id": "a40db6a5-cd35-46de-b1c2-dae0b2904ee5",
   "metadata": {},
   "outputs": [
    {
     "data": {
      "text/plain": [
       "dtype('int32')"
      ]
     },
     "execution_count": 23,
     "metadata": {},
     "output_type": "execute_result"
    }
   ],
   "source": [
    "listarray = np.array([1,2,3,4])\n",
    "listarray\n",
    "listarray.dtype"
   ]
  },
  {
   "cell_type": "markdown",
   "id": "e49eb36f-7b64-4f2f-aaf1-af01638d7cf1",
   "metadata": {},
   "source": [
    "**From TUPLE**"
   ]
  },
  {
   "cell_type": "code",
   "execution_count": 25,
   "id": "c3333747-515e-4c22-8b81-7c0916c5ebf9",
   "metadata": {},
   "outputs": [
    {
     "name": "stdout",
     "output_type": "stream",
     "text": [
      "[1 2 3 4]\n"
     ]
    }
   ],
   "source": [
    "tup_array=np.array((1,2,3,4))\n",
    "print(tup_array)"
   ]
  },
  {
   "cell_type": "code",
   "execution_count": 26,
   "id": "397ee7fb-93f0-44fb-8fc1-9392fa546a2d",
   "metadata": {},
   "outputs": [
    {
     "data": {
      "text/plain": [
       "array([[1, 4, 5, 6],\n",
       "       [2, 4, 1, 5]])"
      ]
     },
     "execution_count": 26,
     "metadata": {},
     "output_type": "execute_result"
    }
   ],
   "source": [
    "tuplearray = np.array(((1,4,5,6),(2,4,1,5)))\n",
    "tuplearray"
   ]
  },
  {
   "cell_type": "code",
   "execution_count": 27,
   "id": "d69bcb57-ac69-4550-ad52-064e3169cd6a",
   "metadata": {},
   "outputs": [
    {
     "data": {
      "text/plain": [
       "(2, 4)"
      ]
     },
     "execution_count": 27,
     "metadata": {},
     "output_type": "execute_result"
    }
   ],
   "source": [
    "tuplearray.shape"
   ]
  },
  {
   "cell_type": "code",
   "execution_count": 28,
   "id": "18d91b67-f563-4945-b6fe-3d9b1c08ae86",
   "metadata": {},
   "outputs": [
    {
     "data": {
      "text/plain": [
       "8"
      ]
     },
     "execution_count": 28,
     "metadata": {},
     "output_type": "execute_result"
    }
   ],
   "source": [
    "tuplearray.size"
   ]
  },
  {
   "cell_type": "code",
   "execution_count": 29,
   "id": "e8a38735-57d2-4dad-89f7-865b0ae32241",
   "metadata": {},
   "outputs": [
    {
     "data": {
      "text/plain": [
       "dtype('int32')"
      ]
     },
     "execution_count": 29,
     "metadata": {},
     "output_type": "execute_result"
    }
   ],
   "source": [
    "tuplearray.dtype"
   ]
  },
  {
   "cell_type": "markdown",
   "id": "630c6608-3fd7-4df9-99d0-968a02f46eb3",
   "metadata": {},
   "source": [
    "**From SET**"
   ]
  },
  {
   "cell_type": "code",
   "execution_count": 31,
   "id": "f5acadff-c23f-4b43-b89a-58e46116f8e4",
   "metadata": {},
   "outputs": [
    {
     "data": {
      "text/plain": [
       "array({1, 2, 3, 4}, dtype=object)"
      ]
     },
     "execution_count": 31,
     "metadata": {},
     "output_type": "execute_result"
    }
   ],
   "source": [
    "setarray = np.array({1,2,3,4})\n",
    "setarray"
   ]
  },
  {
   "cell_type": "code",
   "execution_count": 32,
   "id": "c5ab756d-3388-419c-a8b2-3e39e9641424",
   "metadata": {},
   "outputs": [
    {
     "data": {
      "text/plain": [
       "dtype('O')"
      ]
     },
     "execution_count": 32,
     "metadata": {},
     "output_type": "execute_result"
    }
   ],
   "source": [
    "setarray.dtype"
   ]
  },
  {
   "cell_type": "markdown",
   "id": "e4935b1e-da42-4388-9f61-291f7005bd37",
   "metadata": {},
   "source": [
    "# Array Creation - Intrinsic numpy array creation objects "
   ]
  },
  {
   "cell_type": "markdown",
   "id": "2198afdc-6cb1-4a3c-b099-64ea5ddf107d",
   "metadata": {},
   "source": [
    "**zeros()**"
   ]
  },
  {
   "cell_type": "code",
   "execution_count": 35,
   "id": "a4e98360-6fcb-4cc0-ab17-c17377f2aac2",
   "metadata": {},
   "outputs": [
    {
     "data": {
      "text/plain": [
       "array([[0., 0., 0., 0., 0.],\n",
       "       [0., 0., 0., 0., 0.]])"
      ]
     },
     "execution_count": 35,
     "metadata": {},
     "output_type": "execute_result"
    }
   ],
   "source": [
    "zeros = np.zeros((2,5))\n",
    "zeros"
   ]
  },
  {
   "cell_type": "markdown",
   "id": "a160b1ae-9a97-4030-ae6d-06f5d8a5a4e2",
   "metadata": {},
   "source": [
    "**ones()**"
   ]
  },
  {
   "cell_type": "code",
   "execution_count": 37,
   "id": "8f1ef39b-f28f-4a9f-8c3c-52d65e778f5f",
   "metadata": {},
   "outputs": [
    {
     "name": "stdout",
     "output_type": "stream",
     "text": [
      "[[1. 1. 1. 1. 1.]\n",
      " [1. 1. 1. 1. 1.]]\n"
     ]
    },
    {
     "data": {
      "text/plain": [
       "dtype('float64')"
      ]
     },
     "execution_count": 37,
     "metadata": {},
     "output_type": "execute_result"
    }
   ],
   "source": [
    "ones = np.ones((2,5))\n",
    "print(ones)\n",
    "ones.dtype"
   ]
  },
  {
   "cell_type": "markdown",
   "id": "5d09b932-0fff-4cec-bf40-47f1a9d0af39",
   "metadata": {},
   "source": [
    "**arange()**"
   ]
  },
  {
   "cell_type": "code",
   "execution_count": 39,
   "id": "ec264d16-085a-46b0-9c63-d5819557a083",
   "metadata": {},
   "outputs": [
    {
     "data": {
      "text/plain": [
       "array([0, 1, 2, 3, 4])"
      ]
     },
     "execution_count": 39,
     "metadata": {},
     "output_type": "execute_result"
    }
   ],
   "source": [
    "rng = np.arange(5)\n",
    "rng"
   ]
  },
  {
   "cell_type": "code",
   "execution_count": 40,
   "id": "b37a9efb-f18b-4858-8f0e-2498c1be5700",
   "metadata": {},
   "outputs": [
    {
     "data": {
      "text/plain": [
       "dtype('float32')"
      ]
     },
     "execution_count": 40,
     "metadata": {},
     "output_type": "execute_result"
    }
   ],
   "source": [
    "ar=np.array([1.0,2.0,3.0,4.0],np.float32)\n",
    "ar.dtype"
   ]
  },
  {
   "cell_type": "code",
   "execution_count": 41,
   "id": "0f5f7fe0-85a6-4b2d-8057-a7d78c093db4",
   "metadata": {},
   "outputs": [
    {
     "data": {
      "text/plain": [
       "array([[1, 2, 3],\n",
       "       [4, 5, 6],\n",
       "       [4, 5, 7]])"
      ]
     },
     "execution_count": 41,
     "metadata": {},
     "output_type": "execute_result"
    }
   ],
   "source": [
    "ar1=np.array([[1,2,3],[4,5,6],[4,5,7]])\n",
    "ar1\n",
    "\n"
   ]
  },
  {
   "cell_type": "code",
   "execution_count": 42,
   "id": "0c3e2bbc-f05d-49cf-836a-e177da582723",
   "metadata": {},
   "outputs": [
    {
     "data": {
      "text/plain": [
       "dtype('int32')"
      ]
     },
     "execution_count": 42,
     "metadata": {},
     "output_type": "execute_result"
    }
   ],
   "source": [
    "ar1.dtype"
   ]
  },
  {
   "cell_type": "code",
   "execution_count": 43,
   "id": "e2ad8ae5-eeb4-4953-a22d-b5dbd0fbcc32",
   "metadata": {},
   "outputs": [
    {
     "data": {
      "text/plain": [
       "array([ 0,  1,  2,  3,  4,  5,  6,  7,  8,  9, 10, 11, 12, 13, 14])"
      ]
     },
     "execution_count": 43,
     "metadata": {},
     "output_type": "execute_result"
    }
   ],
   "source": [
    "rng = np.arange(15)\n",
    "rng"
   ]
  },
  {
   "cell_type": "code",
   "execution_count": 44,
   "id": "8cfe41c2-1493-4f5b-a937-b3d868abce4d",
   "metadata": {},
   "outputs": [
    {
     "data": {
      "text/plain": [
       "dtype('int32')"
      ]
     },
     "execution_count": 44,
     "metadata": {},
     "output_type": "execute_result"
    }
   ],
   "source": [
    "rng.dtype"
   ]
  },
  {
   "cell_type": "markdown",
   "id": "2f48bbb1-9c4a-4fc1-ab96-b039236afd11",
   "metadata": {},
   "source": [
    "**linspace**"
   ]
  },
  {
   "cell_type": "code",
   "execution_count": 46,
   "id": "ddffe020-6e59-4c85-8420-52c771e261c0",
   "metadata": {},
   "outputs": [
    {
     "data": {
      "text/plain": [
       "array([1., 2., 3., 4., 5.])"
      ]
     },
     "execution_count": 46,
     "metadata": {},
     "output_type": "execute_result"
    }
   ],
   "source": [
    "lspace = np.linspace(1,5,5)\n",
    "lspace"
   ]
  },
  {
   "cell_type": "code",
   "execution_count": 47,
   "id": "b38ea8b9-d311-4178-9cc9-92cdeb95aaf4",
   "metadata": {},
   "outputs": [],
   "source": [
    "lspace[0]=7.0"
   ]
  },
  {
   "cell_type": "code",
   "execution_count": 48,
   "id": "a54d2d92-e380-4e60-a43f-8049a0eb4746",
   "metadata": {},
   "outputs": [
    {
     "data": {
      "text/plain": [
       "array([7., 2., 3., 4., 5.])"
      ]
     },
     "execution_count": 48,
     "metadata": {},
     "output_type": "execute_result"
    }
   ],
   "source": [
    "lspace"
   ]
  },
  {
   "cell_type": "code",
   "execution_count": 49,
   "id": "c215b285-55e8-47a6-bb49-563a5252e111",
   "metadata": {},
   "outputs": [
    {
     "data": {
      "text/plain": [
       "dtype('float64')"
      ]
     },
     "execution_count": 49,
     "metadata": {},
     "output_type": "execute_result"
    }
   ],
   "source": [
    "lspace.dtype"
   ]
  },
  {
   "cell_type": "markdown",
   "id": "ce27e45f-5cbc-4b53-837b-00bf64f897f3",
   "metadata": {},
   "source": [
    "**empty()**"
   ]
  },
  {
   "cell_type": "code",
   "execution_count": 51,
   "id": "466a407a-53af-4f60-996a-40892ef46824",
   "metadata": {},
   "outputs": [
    {
     "data": {
      "text/plain": [
       "dtype('float64')"
      ]
     },
     "execution_count": 51,
     "metadata": {},
     "output_type": "execute_result"
    }
   ],
   "source": [
    "emt = np.empty((3,2))\n",
    "emt\n",
    "emt.dtype"
   ]
  },
  {
   "cell_type": "markdown",
   "id": "2965dc92-2989-4ed5-9a39-f4730da593cc",
   "metadata": {},
   "source": [
    "**empty_like()**"
   ]
  },
  {
   "cell_type": "code",
   "execution_count": 53,
   "id": "2bac976b-8f6a-4d40-9f9b-3d8ed9ffd6ea",
   "metadata": {},
   "outputs": [
    {
     "data": {
      "text/plain": [
       "array([7., 2., 3., 4., 5.])"
      ]
     },
     "execution_count": 53,
     "metadata": {},
     "output_type": "execute_result"
    }
   ],
   "source": [
    "emt_like = np.empty_like(lspace)\n",
    "emt_like"
   ]
  },
  {
   "cell_type": "markdown",
   "id": "0d992b9e-d536-4710-be32-c6a4bef0e31f",
   "metadata": {},
   "source": [
    "**identity()**"
   ]
  },
  {
   "cell_type": "code",
   "execution_count": 55,
   "id": "a8cf3c22-5b55-4d95-8cf5-e2d0f511257e",
   "metadata": {},
   "outputs": [
    {
     "data": {
      "text/plain": [
       "array([[1., 0., 0., 0., 0., 0., 0., 0., 0.],\n",
       "       [0., 1., 0., 0., 0., 0., 0., 0., 0.],\n",
       "       [0., 0., 1., 0., 0., 0., 0., 0., 0.],\n",
       "       [0., 0., 0., 1., 0., 0., 0., 0., 0.],\n",
       "       [0., 0., 0., 0., 1., 0., 0., 0., 0.],\n",
       "       [0., 0., 0., 0., 0., 1., 0., 0., 0.],\n",
       "       [0., 0., 0., 0., 0., 0., 1., 0., 0.],\n",
       "       [0., 0., 0., 0., 0., 0., 0., 1., 0.],\n",
       "       [0., 0., 0., 0., 0., 0., 0., 0., 1.]])"
      ]
     },
     "execution_count": 55,
     "metadata": {},
     "output_type": "execute_result"
    }
   ],
   "source": [
    "ide = np.identity(9)\n",
    "ide"
   ]
  },
  {
   "cell_type": "code",
   "execution_count": 56,
   "id": "52ad3db0-ccab-467d-a8c1-f89e68908680",
   "metadata": {},
   "outputs": [
    {
     "data": {
      "text/plain": [
       "(15,)"
      ]
     },
     "execution_count": 56,
     "metadata": {},
     "output_type": "execute_result"
    }
   ],
   "source": [
    "rng.shape"
   ]
  },
  {
   "cell_type": "code",
   "execution_count": 57,
   "id": "00387199-490e-419d-bb9a-91c8b83d9085",
   "metadata": {},
   "outputs": [
    {
     "data": {
      "text/plain": [
       "(5,)"
      ]
     },
     "execution_count": 57,
     "metadata": {},
     "output_type": "execute_result"
    }
   ],
   "source": [
    "lspace.shape"
   ]
  },
  {
   "cell_type": "code",
   "execution_count": 58,
   "id": "8e2098e5-36f0-40ca-8741-2849b3a47f18",
   "metadata": {},
   "outputs": [
    {
     "data": {
      "text/plain": [
       "(3, 3)"
      ]
     },
     "execution_count": 58,
     "metadata": {},
     "output_type": "execute_result"
    }
   ],
   "source": [
    "ar1.shape"
   ]
  },
  {
   "cell_type": "markdown",
   "id": "68e10a45-f532-4f66-9010-7967c72f41b8",
   "metadata": {},
   "source": [
    "***arange()_advanced***"
   ]
  },
  {
   "cell_type": "code",
   "execution_count": 60,
   "id": "18d515a4-4b1b-45e4-b166-a0f4c546b112",
   "metadata": {},
   "outputs": [
    {
     "data": {
      "text/plain": [
       "array([ 0,  1,  2,  3,  4,  5,  6,  7,  8,  9, 10, 11, 12, 13, 14, 15, 16,\n",
       "       17, 18, 19, 20, 21, 22, 23, 24, 25, 26, 27, 28, 29, 30, 31, 32, 33,\n",
       "       34, 35])"
      ]
     },
     "execution_count": 60,
     "metadata": {},
     "output_type": "execute_result"
    }
   ],
   "source": [
    "arr = np.arange(36)\n",
    "arr"
   ]
  },
  {
   "cell_type": "markdown",
   "id": "e7d61dad-b512-4873-807b-ae07737be899",
   "metadata": {},
   "source": [
    "***reshape()***"
   ]
  },
  {
   "cell_type": "code",
   "execution_count": 62,
   "id": "42e8d098-f2fe-4514-bd8b-413e4ecfa946",
   "metadata": {},
   "outputs": [
    {
     "data": {
      "text/plain": [
       "array([[ 0,  1,  2,  3,  4,  5,  6,  7,  8,  9, 10, 11, 12, 13, 14, 15,\n",
       "        16, 17],\n",
       "       [18, 19, 20, 21, 22, 23, 24, 25, 26, 27, 28, 29, 30, 31, 32, 33,\n",
       "        34, 35]])"
      ]
     },
     "execution_count": 62,
     "metadata": {},
     "output_type": "execute_result"
    }
   ],
   "source": [
    "arr.reshape(2,18)"
   ]
  },
  {
   "cell_type": "code",
   "execution_count": 63,
   "id": "8786b8a4-6b4c-4452-b060-9780bb2fd393",
   "metadata": {},
   "outputs": [
    {
     "data": {
      "text/plain": [
       "array([ 0,  1,  2,  3,  4,  5,  6,  7,  8,  9, 10, 11, 12, 13, 14, 15, 16,\n",
       "       17, 18, 19, 20, 21, 22, 23, 24, 25, 26, 27, 28, 29, 30, 31, 32, 33,\n",
       "       34, 35, 36, 37, 38, 39, 40, 41, 42, 43, 44, 45, 46, 47, 48, 49, 50,\n",
       "       51, 52, 53, 54, 55, 56, 57, 58, 59, 60, 61, 62, 63, 64, 65, 66, 67,\n",
       "       68, 69, 70, 71])"
      ]
     },
     "execution_count": 63,
     "metadata": {},
     "output_type": "execute_result"
    }
   ],
   "source": [
    "arr = np.arange(72)\n",
    "arr"
   ]
  },
  {
   "cell_type": "markdown",
   "id": "636da045-77cb-4668-bb37-fca22b579580",
   "metadata": {},
   "source": [
    "arr.reshape(6,12)"
   ]
  },
  {
   "cell_type": "code",
   "execution_count": 65,
   "id": "44b5fcf6-9c50-4cad-abda-3f010b684f50",
   "metadata": {},
   "outputs": [
    {
     "data": {
      "text/plain": [
       "array([0, 1, 2, 3, 4, 5, 6, 7, 8, 9])"
      ]
     },
     "execution_count": 65,
     "metadata": {},
     "output_type": "execute_result"
    }
   ],
   "source": [
    "arr=np.arange(10)\n",
    "arr"
   ]
  },
  {
   "cell_type": "code",
   "execution_count": 66,
   "id": "a2c37f83-ba0f-4c37-987e-b1321668e1e5",
   "metadata": {},
   "outputs": [
    {
     "data": {
      "text/plain": [
       "array([[0, 1],\n",
       "       [2, 3],\n",
       "       [4, 5],\n",
       "       [6, 7],\n",
       "       [8, 9]])"
      ]
     },
     "execution_count": 66,
     "metadata": {},
     "output_type": "execute_result"
    }
   ],
   "source": [
    "arr.reshape(5,2)"
   ]
  },
  {
   "cell_type": "markdown",
   "id": "ebb72854-1849-47c3-a0e7-16a443b05264",
   "metadata": {},
   "source": [
    "# NUMPY AXIS"
   ]
  },
  {
   "cell_type": "code",
   "execution_count": 68,
   "id": "ae9f6720-ffd8-44fd-a07a-09eeef2e43ee",
   "metadata": {},
   "outputs": [
    {
     "data": {
      "text/plain": [
       "[[1, 2, 3], [4, 5, 6], [7, 8, 9]]"
      ]
     },
     "execution_count": 68,
     "metadata": {},
     "output_type": "execute_result"
    }
   ],
   "source": [
    "x = [[1,2,3],[4,5,6],[7,8,9]]\n",
    "x"
   ]
  },
  {
   "cell_type": "code",
   "execution_count": 69,
   "id": "632780a9-11f2-4637-9e10-bd17bad6f136",
   "metadata": {},
   "outputs": [
    {
     "data": {
      "text/plain": [
       "[[1, 2, 3], [4, 5, 10], [7, 8, 9]]"
      ]
     },
     "execution_count": 69,
     "metadata": {},
     "output_type": "execute_result"
    }
   ],
   "source": [
    "x[1][2]=10\n",
    "x"
   ]
  },
  {
   "cell_type": "code",
   "execution_count": 70,
   "id": "d57cbcfd-c9e8-4233-aea9-d11db038be46",
   "metadata": {},
   "outputs": [
    {
     "data": {
      "text/plain": [
       "array([[ 1,  2,  3],\n",
       "       [ 4,  5, 10],\n",
       "       [ 7,  8,  9]])"
      ]
     },
     "execution_count": 70,
     "metadata": {},
     "output_type": "execute_result"
    }
   ],
   "source": [
    "x = np.array(x)\n",
    "x"
   ]
  },
  {
   "cell_type": "code",
   "execution_count": 71,
   "id": "55eca48e-164f-4327-8a22-da7ef25d3f11",
   "metadata": {},
   "outputs": [
    {
     "data": {
      "text/plain": [
       "(3, 3)"
      ]
     },
     "execution_count": 71,
     "metadata": {},
     "output_type": "execute_result"
    }
   ],
   "source": [
    "x.shape"
   ]
  },
  {
   "cell_type": "code",
   "execution_count": 72,
   "id": "c8f21b2f-377c-4b8f-bf0a-ba8490a53168",
   "metadata": {},
   "outputs": [
    {
     "data": {
      "text/plain": [
       "array([[ 1,  2,  3],\n",
       "       [ 4, 10, 10],\n",
       "       [ 7,  8,  9]])"
      ]
     },
     "execution_count": 72,
     "metadata": {},
     "output_type": "execute_result"
    }
   ],
   "source": [
    "x[1,1]=10\n",
    "x"
   ]
  },
  {
   "cell_type": "code",
   "execution_count": 73,
   "id": "70217058-3739-443f-9598-8a8c9cff78b0",
   "metadata": {},
   "outputs": [
    {
     "data": {
      "text/plain": [
       "54"
      ]
     },
     "execution_count": 73,
     "metadata": {},
     "output_type": "execute_result"
    }
   ],
   "source": [
    "x.sum()"
   ]
  },
  {
   "cell_type": "code",
   "execution_count": 74,
   "id": "ac4e9c59-a548-44b7-ae32-21291e78a822",
   "metadata": {},
   "outputs": [
    {
     "data": {
      "text/plain": [
       "array([ 6, 24, 24])"
      ]
     },
     "execution_count": 74,
     "metadata": {},
     "output_type": "execute_result"
    }
   ],
   "source": [
    "x.sum(axis=1)"
   ]
  },
  {
   "cell_type": "code",
   "execution_count": 75,
   "id": "112b6df2-8e5d-485c-b5ad-0bfb86ca825c",
   "metadata": {},
   "outputs": [
    {
     "data": {
      "text/plain": [
       "array([ 7, 10, 10])"
      ]
     },
     "execution_count": 75,
     "metadata": {},
     "output_type": "execute_result"
    }
   ],
   "source": [
    "x.max(axis=0)"
   ]
  },
  {
   "cell_type": "code",
   "execution_count": 76,
   "id": "0908af43-a995-423a-8033-c5cb98734ada",
   "metadata": {},
   "outputs": [
    {
     "data": {
      "text/plain": [
       "array([1, 4, 7])"
      ]
     },
     "execution_count": 76,
     "metadata": {},
     "output_type": "execute_result"
    }
   ],
   "source": [
    "x.min(axis=1)"
   ]
  },
  {
   "cell_type": "code",
   "execution_count": 77,
   "id": "cb56f9c9-1e4f-473a-9aa4-d4f2c961df31",
   "metadata": {},
   "outputs": [
    {
     "data": {
      "text/plain": [
       "array([ 3, 10,  9])"
      ]
     },
     "execution_count": 77,
     "metadata": {},
     "output_type": "execute_result"
    }
   ],
   "source": [
    "x.max(axis=1)"
   ]
  },
  {
   "cell_type": "markdown",
   "id": "2687dda4-b20f-443f-9dc5-9b8a66f5d579",
   "metadata": {},
   "source": [
    "# Attributes"
   ]
  },
  {
   "cell_type": "code",
   "execution_count": 79,
   "id": "11e2c68a-8454-4c36-b10d-e620e6444cea",
   "metadata": {},
   "outputs": [
    {
     "data": {
      "text/plain": [
       "array([[ 1,  2,  3],\n",
       "       [ 4, 10, 10],\n",
       "       [ 7,  8,  9]])"
      ]
     },
     "execution_count": 79,
     "metadata": {},
     "output_type": "execute_result"
    }
   ],
   "source": [
    "x"
   ]
  },
  {
   "cell_type": "code",
   "execution_count": 80,
   "id": "abd114fa-7e52-414c-b209-be5a59ce07b8",
   "metadata": {},
   "outputs": [
    {
     "data": {
      "text/plain": [
       "array([[ 1,  4,  7],\n",
       "       [ 2, 10,  8],\n",
       "       [ 3, 10,  9]])"
      ]
     },
     "execution_count": 80,
     "metadata": {},
     "output_type": "execute_result"
    }
   ],
   "source": [
    "x.T"
   ]
  },
  {
   "cell_type": "code",
   "execution_count": 81,
   "id": "23302b0f-4e5b-4cc2-91df-300ec4a62e8d",
   "metadata": {},
   "outputs": [
    {
     "name": "stdout",
     "output_type": "stream",
     "text": [
      "1\n",
      "2\n",
      "3\n",
      "4\n",
      "5\n",
      "6\n",
      "7\n",
      "8\n",
      "9\n"
     ]
    }
   ],
   "source": [
    "import numpy as np \n",
    "arr = np.array([[1, 2, 3],[4,5,6],[7,8,9]])\n",
    "\n",
    "for x in arr.flat:\n",
    "  print(x)\n"
   ]
  },
  {
   "cell_type": "code",
   "execution_count": 82,
   "id": "f81d2eed-ef72-49b8-9cf7-14222543244d",
   "metadata": {},
   "outputs": [
    {
     "data": {
      "text/plain": [
       "array(9)"
      ]
     },
     "execution_count": 82,
     "metadata": {},
     "output_type": "execute_result"
    }
   ],
   "source": [
    "arr=np.array(x)\n",
    "arr"
   ]
  },
  {
   "cell_type": "code",
   "execution_count": 83,
   "id": "44287492-6a37-4fc1-8345-14af8cea440e",
   "metadata": {},
   "outputs": [
    {
     "data": {
      "text/plain": [
       "<numpy.flatiter at 0x180da21fd70>"
      ]
     },
     "execution_count": 83,
     "metadata": {},
     "output_type": "execute_result"
    }
   ],
   "source": [
    "arr.flat"
   ]
  },
  {
   "cell_type": "code",
   "execution_count": 84,
   "id": "3176bb35-0419-4906-bf38-a83fe923f4d8",
   "metadata": {},
   "outputs": [
    {
     "name": "stdout",
     "output_type": "stream",
     "text": [
      "9\n"
     ]
    }
   ],
   "source": [
    "for i in arr.flat:\n",
    "    print(i)"
   ]
  },
  {
   "cell_type": "code",
   "execution_count": 85,
   "id": "827063b8-89f3-46d8-986f-7186fb3203eb",
   "metadata": {},
   "outputs": [
    {
     "name": "stdout",
     "output_type": "stream",
     "text": [
      "1\n",
      "2\n",
      "3\n",
      "4\n",
      "5\n",
      "6\n",
      "7\n",
      "8\n",
      "9\n"
     ]
    }
   ],
   "source": [
    "arr =np.array([[1,2,3],[4,5,6],[7,8,9]])\n",
    "for i in arr.flat:\n",
    "    print(i)"
   ]
  },
  {
   "cell_type": "code",
   "execution_count": 86,
   "id": "1a406981-2be5-4e5c-b8a7-42bb15874397",
   "metadata": {},
   "outputs": [
    {
     "data": {
      "text/plain": [
       "2"
      ]
     },
     "execution_count": 86,
     "metadata": {},
     "output_type": "execute_result"
    }
   ],
   "source": [
    "arr.ndim"
   ]
  },
  {
   "cell_type": "code",
   "execution_count": 87,
   "id": "f443da37-545d-4862-9585-0d5cbc5955fa",
   "metadata": {},
   "outputs": [
    {
     "data": {
      "text/plain": [
       "1"
      ]
     },
     "execution_count": 87,
     "metadata": {},
     "output_type": "execute_result"
    }
   ],
   "source": [
    "x=np.array([1,2,4])\n",
    "x.ndim"
   ]
  },
  {
   "cell_type": "code",
   "execution_count": 88,
   "id": "2ba4eb71-c921-4750-afad-2fe38459ccc0",
   "metadata": {},
   "outputs": [
    {
     "name": "stdout",
     "output_type": "stream",
     "text": [
      "0\n",
      "1\n",
      "2\n",
      "3\n"
     ]
    }
   ],
   "source": [
    "#Check your array dimension\n",
    "a = np.array(42)\n",
    "b = np.array([1, 2, 3, 4, 5])\n",
    "c = np.array([[1, 2, 3], [4, 5, 6]])\n",
    "d = np.array([[[1, 2, 3], [4, 5, 6]], [[1, 2, 3], [4, 5, 6]]])\n",
    "\n",
    "print(a.ndim)\n",
    "print(b.ndim)\n",
    "print(c.ndim)\n",
    "print(d.ndim)"
   ]
  },
  {
   "cell_type": "code",
   "execution_count": 89,
   "id": "ca999ed0-521e-4577-850d-50f9687d8726",
   "metadata": {},
   "outputs": [
    {
     "name": "stdout",
     "output_type": "stream",
     "text": [
      "9\n",
      "3\n"
     ]
    }
   ],
   "source": [
    "print(arr.size)\n",
    "print(x.size)"
   ]
  },
  {
   "cell_type": "code",
   "execution_count": 90,
   "id": "b0d1eb1b-9f97-4ed4-b57c-e2354a953520",
   "metadata": {},
   "outputs": [
    {
     "name": "stdout",
     "output_type": "stream",
     "text": [
      "(3, 3)\n",
      "(3,)\n"
     ]
    }
   ],
   "source": [
    "print(arr.shape)\n",
    "print(x.shape)"
   ]
  },
  {
   "cell_type": "code",
   "execution_count": 91,
   "id": "6f190595-20cd-4917-aa57-aca73e9ddec7",
   "metadata": {},
   "outputs": [
    {
     "data": {
      "text/plain": [
       "36"
      ]
     },
     "execution_count": 91,
     "metadata": {},
     "output_type": "execute_result"
    }
   ],
   "source": [
    "arr.nbytes"
   ]
  },
  {
   "cell_type": "code",
   "execution_count": 92,
   "id": "3e635f03-25b5-411b-8fc7-2196b2e2b521",
   "metadata": {},
   "outputs": [
    {
     "data": {
      "text/plain": [
       "array([[1, 2, 3],\n",
       "       [4, 5, 6],\n",
       "       [7, 8, 9]])"
      ]
     },
     "execution_count": 92,
     "metadata": {},
     "output_type": "execute_result"
    }
   ],
   "source": [
    "arr"
   ]
  },
  {
   "cell_type": "code",
   "execution_count": 93,
   "id": "d9f83a66-5dd7-4b18-b464-0b8d33649463",
   "metadata": {},
   "outputs": [
    {
     "data": {
      "text/plain": [
       "array([  1,   2, 376,   8])"
      ]
     },
     "execution_count": 93,
     "metadata": {},
     "output_type": "execute_result"
    }
   ],
   "source": [
    "myarr = np.array([1,2,376,8])\n",
    "myarr"
   ]
  },
  {
   "cell_type": "markdown",
   "id": "907051e3-2b2f-408b-8b5d-58b8227516e2",
   "metadata": {},
   "source": [
    "**astype()- converts array from one  data type to another** "
   ]
  },
  {
   "cell_type": "code",
   "execution_count": 95,
   "id": "f7b5e2f1-b8ed-4d42-b56a-89adf28c48dc",
   "metadata": {},
   "outputs": [
    {
     "data": {
      "text/plain": [
       "array([[1., 2., 4.],\n",
       "       [3., 5., 6.],\n",
       "       [7., 8., 9.]])"
      ]
     },
     "execution_count": 95,
     "metadata": {},
     "output_type": "execute_result"
    }
   ],
   "source": [
    "var1 = np.array([[1,2,4],[3,5,6],[7,8,9]])\n",
    "var1.astype(float)"
   ]
  },
  {
   "cell_type": "markdown",
   "id": "f9c4180b-b63b-4b03-bde0-bae8b154ba9d",
   "metadata": {},
   "source": [
    "# Methods()"
   ]
  },
  {
   "cell_type": "code",
   "execution_count": 97,
   "id": "6d0bb57c-f640-47d2-9983-97a6128f842a",
   "metadata": {},
   "outputs": [],
   "source": [
    "#1D array\n",
    "arr1 = np.array([45,8,3])\n",
    "#2D array\n",
    "arr2 = np.array([[20,52,3],[31,0,7],[34,88,10]])"
   ]
  },
  {
   "cell_type": "markdown",
   "id": "4bc77389-abf6-4d69-bd11-fd9a44dedfea",
   "metadata": {},
   "source": [
    "**sort()**"
   ]
  },
  {
   "cell_type": "code",
   "execution_count": 99,
   "id": "eca4657b-9135-46ae-94ef-d81eb62613d4",
   "metadata": {},
   "outputs": [
    {
     "data": {
      "text/plain": [
       "array([ 3,  8, 45])"
      ]
     },
     "execution_count": 99,
     "metadata": {},
     "output_type": "execute_result"
    }
   ],
   "source": [
    "# sorting on 1D array\n",
    "arr1.sort()\n",
    "arr1"
   ]
  },
  {
   "cell_type": "code",
   "execution_count": 100,
   "id": "52badee9-cb71-47f7-85c7-b5d0ddb6dc00",
   "metadata": {},
   "outputs": [
    {
     "data": {
      "text/plain": [
       "array([[ 3, 20, 52],\n",
       "       [ 0,  7, 31],\n",
       "       [10, 34, 88]])"
      ]
     },
     "execution_count": 100,
     "metadata": {},
     "output_type": "execute_result"
    }
   ],
   "source": [
    "#sorting on 2D array\n",
    "arr2.sort()\n",
    "arr2"
   ]
  },
  {
   "cell_type": "markdown",
   "id": "9aa73050-010c-4f58-b680-3e8a4fc8cb01",
   "metadata": {},
   "source": [
    "**argmax()**"
   ]
  },
  {
   "cell_type": "code",
   "execution_count": 102,
   "id": "5eb5e986-3f3f-43cc-9692-06777e4e6c43",
   "metadata": {},
   "outputs": [
    {
     "data": {
      "text/plain": [
       "2"
      ]
     },
     "execution_count": 102,
     "metadata": {},
     "output_type": "execute_result"
    }
   ],
   "source": [
    "#argmax on 1D array\n",
    "arr1.argmax()\n"
   ]
  },
  {
   "cell_type": "code",
   "execution_count": 103,
   "id": "7c1b4852-b2bc-4090-b3bf-7a83f9e804a4",
   "metadata": {},
   "outputs": [
    {
     "data": {
      "text/plain": [
       "8"
      ]
     },
     "execution_count": 103,
     "metadata": {},
     "output_type": "execute_result"
    }
   ],
   "source": [
    "#argmax() on 2D array\n",
    "arr2.argmax()"
   ]
  },
  {
   "cell_type": "markdown",
   "id": "bf5240b8-fbfd-4998-8dfa-4a741213c852",
   "metadata": {},
   "source": [
    "**argmin()**"
   ]
  },
  {
   "cell_type": "code",
   "execution_count": 105,
   "id": "9acaed8a-225c-4f50-bb5f-2bcef778a71e",
   "metadata": {},
   "outputs": [
    {
     "data": {
      "text/plain": [
       "array([45,  8,  3])"
      ]
     },
     "execution_count": 105,
     "metadata": {},
     "output_type": "execute_result"
    }
   ],
   "source": [
    "#1D array\n",
    "arr1 = np.array([45,8,3])\n",
    "arr1"
   ]
  },
  {
   "cell_type": "code",
   "execution_count": 106,
   "id": "11218e4d-c420-49ee-876b-8e1d91a3911d",
   "metadata": {},
   "outputs": [
    {
     "data": {
      "text/plain": [
       "2"
      ]
     },
     "execution_count": 106,
     "metadata": {},
     "output_type": "execute_result"
    }
   ],
   "source": [
    "#argmin() on 1D array\n",
    "arr1.argmin()"
   ]
  },
  {
   "cell_type": "code",
   "execution_count": 107,
   "id": "d7f82f9a-3940-4a38-8295-f85082b435a4",
   "metadata": {},
   "outputs": [
    {
     "data": {
      "text/plain": [
       "array([[20, 52,  3],\n",
       "       [31,  0,  7],\n",
       "       [34, 88, 10]])"
      ]
     },
     "execution_count": 107,
     "metadata": {},
     "output_type": "execute_result"
    }
   ],
   "source": [
    "#2D array\n",
    "arr2 = np.array([[20,52,3],[31,0,7],[34,88,10]])\n",
    "arr2"
   ]
  },
  {
   "cell_type": "code",
   "execution_count": 108,
   "id": "eeda51ed-b41c-462b-ad15-b4cbef3426b9",
   "metadata": {},
   "outputs": [
    {
     "data": {
      "text/plain": [
       "4"
      ]
     },
     "execution_count": 108,
     "metadata": {},
     "output_type": "execute_result"
    }
   ],
   "source": [
    "#argmin() on 2D array\n",
    "arr2.argmin()"
   ]
  },
  {
   "cell_type": "markdown",
   "id": "67162a13-9ac4-4aeb-829e-8758b9dd2a9e",
   "metadata": {},
   "source": [
    "**argsort()**"
   ]
  },
  {
   "cell_type": "code",
   "execution_count": 110,
   "id": "372ac8ff-babb-48fe-96d2-83d119cd624a",
   "metadata": {},
   "outputs": [
    {
     "data": {
      "text/plain": [
       "array([45,  8,  3, 45,  2, 99,  1])"
      ]
     },
     "execution_count": 110,
     "metadata": {},
     "output_type": "execute_result"
    }
   ],
   "source": [
    "#1D array\n",
    "arr1 = np.array([45,8,3,45,2,99,1])\n",
    "arr1"
   ]
  },
  {
   "cell_type": "code",
   "execution_count": 111,
   "id": "2c57a3af-531a-481a-a9fe-45b4b9caead9",
   "metadata": {},
   "outputs": [
    {
     "data": {
      "text/plain": [
       "array([6, 4, 2, 1, 0, 3, 5], dtype=int64)"
      ]
     },
     "execution_count": 111,
     "metadata": {},
     "output_type": "execute_result"
    }
   ],
   "source": [
    "#argsort() on 1D array\n",
    "arr1.argsort()"
   ]
  },
  {
   "cell_type": "code",
   "execution_count": 112,
   "id": "6ad515d0-25a5-4808-9974-9a67a3754971",
   "metadata": {},
   "outputs": [
    {
     "data": {
      "text/plain": [
       "array([[20, 52,  3],\n",
       "       [31,  0,  7],\n",
       "       [34, 88,  3]])"
      ]
     },
     "execution_count": 112,
     "metadata": {},
     "output_type": "execute_result"
    }
   ],
   "source": [
    "#2D array\n",
    "arr2 = np.array([[20,52,3],[31,0,7],[34,88,3]])\n",
    "arr2"
   ]
  },
  {
   "cell_type": "code",
   "execution_count": 113,
   "id": "2f66868e-0e3a-4f28-99d4-ad6bd4ea43c8",
   "metadata": {},
   "outputs": [
    {
     "data": {
      "text/plain": [
       "array([[2, 0, 1],\n",
       "       [1, 2, 0],\n",
       "       [2, 0, 1]], dtype=int64)"
      ]
     },
     "execution_count": 113,
     "metadata": {},
     "output_type": "execute_result"
    }
   ],
   "source": [
    "#argsort() on 2D array\n",
    "arr2.argsort()\n"
   ]
  },
  {
   "cell_type": "markdown",
   "id": "5ba83c85-2a0e-468e-9c2e-41c57bdcf1d3",
   "metadata": {},
   "source": [
    "**argmax(axis=0)**"
   ]
  },
  {
   "cell_type": "code",
   "execution_count": 115,
   "id": "999037fe-04e4-4e84-9c90-cefdc80db6d1",
   "metadata": {},
   "outputs": [
    {
     "data": {
      "text/plain": [
       "array([45,  8,  3, 45,  2, 99,  1])"
      ]
     },
     "execution_count": 115,
     "metadata": {},
     "output_type": "execute_result"
    }
   ],
   "source": [
    "arr1 = np.array([45,8,3,45,2,99,1])\n",
    "arr1"
   ]
  },
  {
   "cell_type": "code",
   "execution_count": 116,
   "id": "0b6dac78-3889-4174-8f0d-eb2d261c3dd5",
   "metadata": {},
   "outputs": [
    {
     "data": {
      "text/plain": [
       "5"
      ]
     },
     "execution_count": 116,
     "metadata": {},
     "output_type": "execute_result"
    }
   ],
   "source": [
    "#1D array\n",
    "arr1.argmax(axis=0)"
   ]
  },
  {
   "cell_type": "code",
   "execution_count": 117,
   "id": "9629d98d-8e5a-4428-b6c0-a11a0e3ed9e1",
   "metadata": {},
   "outputs": [
    {
     "data": {
      "text/plain": [
       "array([[20, 52,  3],\n",
       "       [31,  0,  7],\n",
       "       [34, 88,  3]])"
      ]
     },
     "execution_count": 117,
     "metadata": {},
     "output_type": "execute_result"
    }
   ],
   "source": [
    "#2D array\n",
    "arr2 = np.array([[20,52,3],[31,0,7],[34,88,3]])\n",
    "arr2"
   ]
  },
  {
   "cell_type": "code",
   "execution_count": 118,
   "id": "cb00eba7-ea70-42ac-bdd8-f7d5150c2e73",
   "metadata": {},
   "outputs": [
    {
     "data": {
      "text/plain": [
       "array([2, 2, 1], dtype=int64)"
      ]
     },
     "execution_count": 118,
     "metadata": {},
     "output_type": "execute_result"
    }
   ],
   "source": [
    "arr2.argmax(axis=0)"
   ]
  },
  {
   "cell_type": "markdown",
   "id": "3d1d7314-bafe-459e-89bb-b78cdcd6dec3",
   "metadata": {},
   "source": [
    "**argmin(axis=0)**"
   ]
  },
  {
   "cell_type": "code",
   "execution_count": 120,
   "id": "fb9d3ff1-6f45-4ec8-ade5-f32cc464e200",
   "metadata": {},
   "outputs": [
    {
     "data": {
      "text/plain": [
       "array([45,  8,  3, 45,  2, 99,  1])"
      ]
     },
     "execution_count": 120,
     "metadata": {},
     "output_type": "execute_result"
    }
   ],
   "source": [
    "arr1 = np.array([45,8,3,45,2,99,1])\n",
    "arr1"
   ]
  },
  {
   "cell_type": "code",
   "execution_count": 121,
   "id": "2dac8a3c-143e-4402-908f-2851408d1afa",
   "metadata": {},
   "outputs": [
    {
     "data": {
      "text/plain": [
       "6"
      ]
     },
     "execution_count": 121,
     "metadata": {},
     "output_type": "execute_result"
    }
   ],
   "source": [
    "arr1.argmin(axis=0)"
   ]
  },
  {
   "cell_type": "code",
   "execution_count": 122,
   "id": "49d5c29b-1be9-4b8f-aca7-9316971d14f6",
   "metadata": {},
   "outputs": [
    {
     "data": {
      "text/plain": [
       "array([[20, 52,  3],\n",
       "       [31,  0,  7],\n",
       "       [34, 88,  3]])"
      ]
     },
     "execution_count": 122,
     "metadata": {},
     "output_type": "execute_result"
    }
   ],
   "source": [
    "#2D array\n",
    "arr2 = np.array([[20,52,3],[31,0,7],[34,88,3]])\n",
    "arr2"
   ]
  },
  {
   "cell_type": "code",
   "execution_count": 123,
   "id": "eb8c378b-68aa-4311-b038-ef449492e6b9",
   "metadata": {},
   "outputs": [
    {
     "data": {
      "text/plain": [
       "array([0, 1, 0], dtype=int64)"
      ]
     },
     "execution_count": 123,
     "metadata": {},
     "output_type": "execute_result"
    }
   ],
   "source": [
    "arr2.argmin(axis=0)"
   ]
  },
  {
   "cell_type": "markdown",
   "id": "b83fc3e0-1259-4996-827e-98d660e3ade7",
   "metadata": {},
   "source": [
    "**argmax(axis=1)**"
   ]
  },
  {
   "cell_type": "code",
   "execution_count": 125,
   "id": "60913ad1-54ce-45be-b193-31187faeb234",
   "metadata": {},
   "outputs": [
    {
     "data": {
      "text/plain": [
       "array([1, 0, 1], dtype=int64)"
      ]
     },
     "execution_count": 125,
     "metadata": {},
     "output_type": "execute_result"
    }
   ],
   "source": [
    "arr2.argmax(axis=1)"
   ]
  },
  {
   "cell_type": "code",
   "execution_count": 126,
   "id": "82c95869-6150-4974-ac6a-f481d9ffabfe",
   "metadata": {},
   "outputs": [
    {
     "data": {
      "text/plain": [
       "array([2, 1, 2], dtype=int64)"
      ]
     },
     "execution_count": 126,
     "metadata": {},
     "output_type": "execute_result"
    }
   ],
   "source": [
    "arr2.argmin(axis=1)"
   ]
  },
  {
   "cell_type": "markdown",
   "id": "6d109f91-ab70-4109-a85d-fd2fad8abc3d",
   "metadata": {},
   "source": [
    "**argsort(axis=0)**"
   ]
  },
  {
   "cell_type": "code",
   "execution_count": 128,
   "id": "dde05a18-f84f-497a-b133-c05e115ddad2",
   "metadata": {},
   "outputs": [
    {
     "data": {
      "text/plain": [
       "array([6, 4, 2, 1, 0, 3, 5], dtype=int64)"
      ]
     },
     "execution_count": 128,
     "metadata": {},
     "output_type": "execute_result"
    }
   ],
   "source": [
    "arr1.argsort(axis=0)"
   ]
  },
  {
   "cell_type": "code",
   "execution_count": 129,
   "id": "2043310a-b410-4886-8168-ac281582eb68",
   "metadata": {},
   "outputs": [
    {
     "data": {
      "text/plain": [
       "array([[0, 1, 0],\n",
       "       [1, 0, 2],\n",
       "       [2, 2, 1]], dtype=int64)"
      ]
     },
     "execution_count": 129,
     "metadata": {},
     "output_type": "execute_result"
    }
   ],
   "source": [
    "arr2.argsort(axis=0)"
   ]
  },
  {
   "cell_type": "code",
   "execution_count": 130,
   "id": "f105b150-ccc9-48e7-9cfb-81db5ebc1a69",
   "metadata": {},
   "outputs": [
    {
     "data": {
      "text/plain": [
       "array([[2, 0, 1],\n",
       "       [1, 2, 0],\n",
       "       [2, 0, 1]], dtype=int64)"
      ]
     },
     "execution_count": 130,
     "metadata": {},
     "output_type": "execute_result"
    }
   ],
   "source": [
    "arr2.argsort(axis=1)"
   ]
  },
  {
   "cell_type": "code",
   "execution_count": 131,
   "id": "fec418b5-4905-4e74-973e-a713addb0801",
   "metadata": {},
   "outputs": [
    {
     "data": {
      "text/plain": [
       "array([20, 52,  3, 31,  0,  7, 34, 88,  3])"
      ]
     },
     "execution_count": 131,
     "metadata": {},
     "output_type": "execute_result"
    }
   ],
   "source": [
    "arr2.ravel()"
   ]
  },
  {
   "cell_type": "code",
   "execution_count": 132,
   "id": "9c9a0d30-6be7-490e-92c4-8bdf854516e6",
   "metadata": {},
   "outputs": [
    {
     "data": {
      "text/plain": [
       "array([[20, 52,  3],\n",
       "       [31,  0,  7],\n",
       "       [34, 88,  3]])"
      ]
     },
     "execution_count": 132,
     "metadata": {},
     "output_type": "execute_result"
    }
   ],
   "source": [
    "arr2"
   ]
  },
  {
   "cell_type": "code",
   "execution_count": 133,
   "id": "5239a1a8-50a0-4993-9fc7-3330dd56d65c",
   "metadata": {},
   "outputs": [
    {
     "data": {
      "text/plain": [
       "array([[20],\n",
       "       [52],\n",
       "       [ 3],\n",
       "       [31],\n",
       "       [ 0],\n",
       "       [ 7],\n",
       "       [34],\n",
       "       [88],\n",
       "       [ 3]])"
      ]
     },
     "execution_count": 133,
     "metadata": {},
     "output_type": "execute_result"
    }
   ],
   "source": [
    "arr2.reshape(9,1)"
   ]
  },
  {
   "cell_type": "code",
   "execution_count": 134,
   "id": "e4714db6-538e-4e82-ac01-8e3328a98ee8",
   "metadata": {},
   "outputs": [
    {
     "data": {
      "text/plain": [
       "array([[45,  3,  1],\n",
       "       [56, 33, 90],\n",
       "       [23,  9, 12]])"
      ]
     },
     "execution_count": 134,
     "metadata": {},
     "output_type": "execute_result"
    }
   ],
   "source": [
    "new = np.array([[45,3,1],[56,33,90],[23,9,12]])\n",
    "new"
   ]
  },
  {
   "cell_type": "code",
   "execution_count": 135,
   "id": "926a17fe-5169-4018-af5a-a038f737a968",
   "metadata": {},
   "outputs": [
    {
     "data": {
      "text/plain": [
       "array([[45],\n",
       "       [ 3],\n",
       "       [ 1],\n",
       "       [56],\n",
       "       [33],\n",
       "       [90],\n",
       "       [23],\n",
       "       [ 9],\n",
       "       [12]])"
      ]
     },
     "execution_count": 135,
     "metadata": {},
     "output_type": "execute_result"
    }
   ],
   "source": [
    "new.reshape(9,1)"
   ]
  },
  {
   "cell_type": "code",
   "execution_count": 136,
   "id": "557ba497-bc32-4741-88cd-63d3a623dd9b",
   "metadata": {},
   "outputs": [
    {
     "data": {
      "text/plain": [
       "array([ 5,  8,  3,  2, 19, 16])"
      ]
     },
     "execution_count": 136,
     "metadata": {},
     "output_type": "execute_result"
    }
   ],
   "source": [
    "arr1 = np.array([5,8,3,2,19,16])\n",
    "arr1"
   ]
  },
  {
   "cell_type": "code",
   "execution_count": 137,
   "id": "c68b6a2a-887e-4f88-b1a9-9f4ad4712ceb",
   "metadata": {},
   "outputs": [
    {
     "data": {
      "text/plain": [
       "3"
      ]
     },
     "execution_count": 137,
     "metadata": {},
     "output_type": "execute_result"
    }
   ],
   "source": [
    "arr1.argmin(axis=0)"
   ]
  },
  {
   "cell_type": "code",
   "execution_count": 138,
   "id": "b76fdad4-9100-4b86-80b8-07a7173b7dbe",
   "metadata": {},
   "outputs": [
    {
     "data": {
      "text/plain": [
       "array([3, 2, 0, 1, 5, 4], dtype=int64)"
      ]
     },
     "execution_count": 138,
     "metadata": {},
     "output_type": "execute_result"
    }
   ],
   "source": [
    "arr1.argsort()"
   ]
  },
  {
   "cell_type": "code",
   "execution_count": 139,
   "id": "75ced9d8-7963-451f-b5d7-9c8c2a65c997",
   "metadata": {},
   "outputs": [
    {
     "data": {
      "text/plain": [
       "array([[ 1, 22,  0],\n",
       "       [16,  5, 33],\n",
       "       [ 9, 45, 22]])"
      ]
     },
     "execution_count": 139,
     "metadata": {},
     "output_type": "execute_result"
    }
   ],
   "source": [
    "arr2=np.array([[1,22,0],[16,5,33],[9,45,22]])\n",
    "arr2"
   ]
  },
  {
   "cell_type": "code",
   "execution_count": 140,
   "id": "4f0c9a25-f3e3-4eb4-8b9b-7a8bf60effcb",
   "metadata": {},
   "outputs": [
    {
     "data": {
      "text/plain": [
       "array([0, 1, 0], dtype=int64)"
      ]
     },
     "execution_count": 140,
     "metadata": {},
     "output_type": "execute_result"
    }
   ],
   "source": [
    "arr2.argmin(axis=0)"
   ]
  },
  {
   "cell_type": "code",
   "execution_count": 141,
   "id": "039cbb68-28d1-4937-980d-02b5919435e0",
   "metadata": {},
   "outputs": [
    {
     "data": {
      "text/plain": [
       "array([2, 1, 0], dtype=int64)"
      ]
     },
     "execution_count": 141,
     "metadata": {},
     "output_type": "execute_result"
    }
   ],
   "source": [
    "arr2.argmin(axis=1)"
   ]
  },
  {
   "cell_type": "code",
   "execution_count": 142,
   "id": "80a7b477-95b1-41da-a40d-94a446ade1f9",
   "metadata": {},
   "outputs": [
    {
     "data": {
      "text/plain": [
       "array([[2, 0, 1],\n",
       "       [1, 0, 2],\n",
       "       [0, 2, 1]], dtype=int64)"
      ]
     },
     "execution_count": 142,
     "metadata": {},
     "output_type": "execute_result"
    }
   ],
   "source": [
    "arr2.argsort(axis=1)"
   ]
  },
  {
   "cell_type": "markdown",
   "id": "e36603d1-af41-4d54-bc76-ff20bc44b934",
   "metadata": {},
   "source": [
    "# W3 School --NUMPY-- "
   ]
  },
  {
   "cell_type": "markdown",
   "id": "49f027a2-d3cc-418a-b5fb-d1d36e3f5ef7",
   "metadata": {},
   "source": [
    "***Getting Started***"
   ]
  },
  {
   "cell_type": "code",
   "execution_count": 145,
   "id": "1609e660-65b3-4cb9-abda-cdc34fffc5ed",
   "metadata": {},
   "outputs": [
    {
     "name": "stdout",
     "output_type": "stream",
     "text": [
      "1.25.2\n"
     ]
    }
   ],
   "source": [
    "#checking numpy version\n",
    "import numpy as np\n",
    "print(np.__version__)"
   ]
  },
  {
   "cell_type": "markdown",
   "id": "935ef979-e407-4d16-866a-e6665cfe5407",
   "metadata": {},
   "source": [
    "**Creating array using _array()_ function***"
   ]
  },
  {
   "cell_type": "code",
   "execution_count": 147,
   "id": "041077a6-43c9-45ec-b07b-ebaf9acc826d",
   "metadata": {},
   "outputs": [
    {
     "name": "stdout",
     "output_type": "stream",
     "text": [
      "[1 2 3 4 5]\n",
      "<class 'numpy.ndarray'>\n"
     ]
    }
   ],
   "source": [
    "arr = np.array([1, 2, 3, 4, 5])\n",
    "print(arr)\n",
    "print(type(arr))"
   ]
  },
  {
   "cell_type": "code",
   "execution_count": 148,
   "id": "4e9fafd0-fdee-4272-827c-fcb199e3fe55",
   "metadata": {},
   "outputs": [
    {
     "name": "stdout",
     "output_type": "stream",
     "text": [
      "[ 3  8 67]\n"
     ]
    }
   ],
   "source": [
    "\n",
    "arr = np.array([[1, 2, 3, 4, 5], [6, 7, 8, 9, 10],[11,45,67,89,34]])\n",
    "\n",
    "print(arr[0:3, 2])"
   ]
  },
  {
   "cell_type": "code",
   "execution_count": 149,
   "id": "9486d49e-c431-4f7f-8953-d41fc6cf7186",
   "metadata": {},
   "outputs": [
    {
     "name": "stdout",
     "output_type": "stream",
     "text": [
      "[[2 3 4]\n",
      " [7 8 9]]\n"
     ]
    }
   ],
   "source": [
    "\n",
    "arr = np.array([[1, 2, 3, 4, 5], [6, 7, 8, 9, 10]])\n",
    "\n",
    "print(arr[0:2, 1:4])"
   ]
  },
  {
   "cell_type": "markdown",
   "id": "aa8926a9-0252-4bc0-999a-7aa15437f4a0",
   "metadata": {},
   "source": [
    "***Converting integer values to boolean***"
   ]
  },
  {
   "cell_type": "code",
   "execution_count": 151,
   "id": "9b31bc8f-10bf-4553-9c5a-5b5ea22bedfe",
   "metadata": {},
   "outputs": [
    {
     "name": "stdout",
     "output_type": "stream",
     "text": [
      "[ True False  True]\n",
      "bool\n"
     ]
    }
   ],
   "source": [
    "import numpy as np\n",
    "\n",
    "arr = np.array([1, 0, 3])\n",
    "\n",
    "newarr = arr.astype(bool)\n",
    "\n",
    "print(newarr)\n",
    "print(newarr.dtype)\n"
   ]
  },
  {
   "cell_type": "markdown",
   "id": "a36c1ebf-0a67-4741-9c8a-5c73e41f2234",
   "metadata": {},
   "source": [
    "***copy() and view()***"
   ]
  },
  {
   "cell_type": "code",
   "execution_count": 153,
   "id": "5f254b76-35b6-42c1-9342-036a4d3156f2",
   "metadata": {},
   "outputs": [
    {
     "data": {
      "text/plain": [
       "array([1, 2, 4, 5])"
      ]
     },
     "execution_count": 153,
     "metadata": {},
     "output_type": "execute_result"
    }
   ],
   "source": [
    "original_array= np.array([1,2,4,5])\n",
    "original_array"
   ]
  },
  {
   "cell_type": "code",
   "execution_count": 154,
   "id": "f7855361-7860-415e-9bb2-f8141079e8e2",
   "metadata": {},
   "outputs": [
    {
     "data": {
      "text/plain": [
       "array([1, 2, 4, 5])"
      ]
     },
     "execution_count": 154,
     "metadata": {},
     "output_type": "execute_result"
    }
   ],
   "source": [
    "carray = np.copy(original_array)\n",
    "carray"
   ]
  },
  {
   "cell_type": "code",
   "execution_count": 155,
   "id": "3ac2433e-c425-4622-8eef-5a925c2f4cfb",
   "metadata": {},
   "outputs": [],
   "source": [
    "carray[2]=6\n"
   ]
  },
  {
   "cell_type": "code",
   "execution_count": 156,
   "id": "8669cb9f-2583-4da4-9b54-6b67973d7fff",
   "metadata": {},
   "outputs": [
    {
     "name": "stdout",
     "output_type": "stream",
     "text": [
      "[1 2 4 5]\n",
      "[1 2 6 5]\n"
     ]
    }
   ],
   "source": [
    "print(original_array)\n",
    "print(carray)"
   ]
  },
  {
   "cell_type": "code",
   "execution_count": 157,
   "id": "f4453982-fdfe-4bf2-a9b2-368fc3149ad5",
   "metadata": {},
   "outputs": [],
   "source": [
    "varray = original_array.view()\n"
   ]
  },
  {
   "cell_type": "code",
   "execution_count": 158,
   "id": "c617dbb2-fb03-42dc-9a9f-e25c0cda533b",
   "metadata": {},
   "outputs": [],
   "source": [
    "carrat=original_array.copy()"
   ]
  },
  {
   "cell_type": "code",
   "execution_count": 159,
   "id": "afefb409-c20b-4ad4-afd1-dbd3eb88fb9c",
   "metadata": {},
   "outputs": [],
   "source": [
    "varray[3]=0"
   ]
  },
  {
   "cell_type": "code",
   "execution_count": 160,
   "id": "0f969f28-51d2-4f31-8872-366c9dfb1024",
   "metadata": {},
   "outputs": [
    {
     "name": "stdout",
     "output_type": "stream",
     "text": [
      "[1 2 4 0]\n",
      "[1 2 4 0]\n"
     ]
    }
   ],
   "source": [
    "print(original_array)\n",
    "print(varray)"
   ]
  },
  {
   "cell_type": "markdown",
   "id": "2fa6ce35-84c5-4433-b1f7-fc46959b180c",
   "metadata": {},
   "source": [
    "***concatenate***"
   ]
  },
  {
   "cell_type": "code",
   "execution_count": 162,
   "id": "54b41e4d-d828-4800-bb37-451c1955d363",
   "metadata": {},
   "outputs": [],
   "source": [
    "import numpy as np"
   ]
  },
  {
   "cell_type": "code",
   "execution_count": 163,
   "id": "a05ba937-38d3-4e85-8a16-0fd9acf0aafd",
   "metadata": {},
   "outputs": [
    {
     "data": {
      "text/plain": [
       "array([1, 2, 3, 4, 5, 6])"
      ]
     },
     "execution_count": 163,
     "metadata": {},
     "output_type": "execute_result"
    }
   ],
   "source": [
    "#1D array concatenation\n",
    "arr1 = np.array([1,2,3])\n",
    "arr2 = np.array([4,5,6])\n",
    "np.concatenate((arr1,arr2))"
   ]
  },
  {
   "cell_type": "code",
   "execution_count": 164,
   "id": "01310b14-27ae-4c66-99cb-fd3ce39a0630",
   "metadata": {},
   "outputs": [
    {
     "data": {
      "text/plain": [
       "array([[1, 2],\n",
       "       [3, 4],\n",
       "       [5, 6],\n",
       "       [1, 2],\n",
       "       [4, 3],\n",
       "       [6, 3]])"
      ]
     },
     "execution_count": 164,
     "metadata": {},
     "output_type": "execute_result"
    }
   ],
   "source": [
    "#2D array concatenation\n",
    "ar1= np.array([[1,2],[3,4],[5,6]])\n",
    "ar2= np.array([[1,2],[4,3],[6,3]])\n",
    "np.concatenate((ar1,ar2))"
   ]
  },
  {
   "cell_type": "code",
   "execution_count": 165,
   "id": "c652c4da-72c7-4ee4-af23-0ac91b3528e0",
   "metadata": {},
   "outputs": [
    {
     "data": {
      "text/plain": [
       "dtype('int32')"
      ]
     },
     "execution_count": 165,
     "metadata": {},
     "output_type": "execute_result"
    }
   ],
   "source": [
    "arr = np.array([1, 2, 3, 4, 5, 6])\n",
    "arr.dtype"
   ]
  },
  {
   "cell_type": "code",
   "execution_count": 305,
   "id": "315efed3-ec9a-471c-9542-978ebc72d648",
   "metadata": {},
   "outputs": [
    {
     "data": {
      "text/plain": [
       "array([1, 2, 3, 4, 5, 6])"
      ]
     },
     "execution_count": 305,
     "metadata": {},
     "output_type": "execute_result"
    }
   ],
   "source": [
    "arr1 = np.array([1, 2, 3])\n",
    "\n",
    "arr2 = np.array([4, 5, 6])\n",
    "\n",
    "arr = np.concatenate((arr1, arr2))\n",
    "arr\n"
   ]
  },
  {
   "cell_type": "code",
   "execution_count": 303,
   "id": "73282670-ee61-40cd-8c1a-f24490e170b9",
   "metadata": {},
   "outputs": [
    {
     "name": "stdout",
     "output_type": "stream",
     "text": [
      "[[1 2 5 6]\n",
      " [3 4 7 8]]\n"
     ]
    }
   ],
   "source": [
    "arr1 = np.array([[1, 2], [3, 4]])\n",
    "\n",
    "arr2 = np.array([[5, 6], [7, 8]])\n",
    "\n",
    "arr = np.concatenate((arr1, arr2), axis=1)\n",
    "\n",
    "print(arr)"
   ]
  },
  {
   "cell_type": "markdown",
   "id": "09444083-f360-4db4-9aff-a0d4f1ab9019",
   "metadata": {},
   "source": [
    "***stack()***"
   ]
  },
  {
   "cell_type": "code",
   "execution_count": 366,
   "id": "63e01562-f662-42de-bc78-49fe35ce1cea",
   "metadata": {},
   "outputs": [
    {
     "name": "stdout",
     "output_type": "stream",
     "text": [
      "[[1 2 3 4 5 6]\n",
      " [4 5 6 7 8 9]]\n",
      "[[1 2 3 4 5 6]\n",
      " [4 5 6 7 8 9]]\n",
      "[[1 2 3]\n",
      " [4 5 6]\n",
      " [4 5 6]\n",
      " [7 8 9]]\n",
      "[[[1 4]\n",
      "  [2 5]\n",
      "  [3 6]]\n",
      "\n",
      " [[4 7]\n",
      "  [5 8]\n",
      "  [6 9]]]\n"
     ]
    }
   ],
   "source": [
    "arr1=np.array([[1,2,3],[4,5,6]])\n",
    "arr2=np.array([[4,5,6],[7,8,9]])\n",
    "#concatenate()\n",
    "\n",
    "print(np.hstack((arr1,arr2)))\n",
    "print(np.hstack((arr1,arr2)))\n",
    "print(np.concatenate((arr1,arr2)))\n",
    "print(np.dstack((arr1,arr2)))\n"
   ]
  },
  {
   "cell_type": "code",
   "execution_count": null,
   "id": "1ff8932e-e034-4f06-a60d-2c86b7766e83",
   "metadata": {},
   "outputs": [],
   "source": []
  },
  {
   "cell_type": "markdown",
   "id": "13476039-01f5-4943-915b-ea5305e0e8a2",
   "metadata": {},
   "source": [
    "# reshape() - using 1D and 2D array "
   ]
  },
  {
   "cell_type": "code",
   "execution_count": 167,
   "id": "7780ad9f-965b-44a8-a8d1-eb4ac825b4fb",
   "metadata": {},
   "outputs": [
    {
     "name": "stdout",
     "output_type": "stream",
     "text": [
      "[[1]\n",
      " [2]\n",
      " [3]\n",
      " [4]\n",
      " [5]\n",
      " [6]\n",
      " [7]\n",
      " [8]]\n"
     ]
    }
   ],
   "source": [
    "#1D array to 2D array\n",
    "arr1= np.array([1,2,3,4,5,6,7,8])\n",
    "reshaped_arr=arr1.reshape(8,-1)\n",
    "print(reshaped_arr)"
   ]
  },
  {
   "cell_type": "markdown",
   "id": "aa658c55-9141-4bc5-82ea-9e9f68adfed9",
   "metadata": {},
   "source": [
    "# spliting NumPy array(array_split)"
   ]
  },
  {
   "cell_type": "code",
   "execution_count": 385,
   "id": "458a091e-41a3-4a30-9f28-1e8267229129",
   "metadata": {},
   "outputs": [
    {
     "data": {
      "text/plain": [
       "[array([1, 2, 3]), array([4, 5, 6]), array([7, 8, 9])]"
      ]
     },
     "execution_count": 385,
     "metadata": {},
     "output_type": "execute_result"
    }
   ],
   "source": [
    "#1D splitting \n",
    "arr1 = np.array([1,2,3,4,5,6,7,8,9])\n",
    "np.array_split(arr1,3)"
   ]
  },
  {
   "cell_type": "code",
   "execution_count": 395,
   "id": "30c7d2c3-1524-4f71-812f-bff95adbe17e",
   "metadata": {},
   "outputs": [
    {
     "data": {
      "text/plain": [
       "[array([[1, 2],\n",
       "        [3, 4]]),\n",
       " array([[5, 6],\n",
       "        [7, 8]]),\n",
       " array([[ 9, 10],\n",
       "        [11, 12]])]"
      ]
     },
     "execution_count": 395,
     "metadata": {},
     "output_type": "execute_result"
    }
   ],
   "source": [
    "#2D spliting \n",
    "\n",
    "arr = np.array([[1, 2], [3, 4], [5, 6], [7, 8], [9, 10], [11, 12]])\n",
    "\n",
    "newarr = np.array_split(arr, 3)\n",
    "\n",
    "newarr"
   ]
  },
  {
   "cell_type": "markdown",
   "id": "b164522a-d3d7-43b2-8fea-f5986dc1e1df",
   "metadata": {},
   "source": [
    "# filter() "
   ]
  },
  {
   "cell_type": "code",
   "execution_count": 408,
   "id": "93e6ce4c-12cd-48a0-9b3e-9a7c7c8ee86c",
   "metadata": {},
   "outputs": [
    {
     "data": {
      "text/plain": [
       "array([145,  78,  99,  77])"
      ]
     },
     "execution_count": 408,
     "metadata": {},
     "output_type": "execute_result"
    }
   ],
   "source": [
    "arr1 = np.array([145,78,12,3,99,77,34])\n",
    "filtered_array =[]\n",
    "for i in arr1:\n",
    "    if(i>40):\n",
    "        filtered_array.append(True)\n",
    "    else:\n",
    "        filtered_array.append(False)\n",
    "\n",
    "new_array=arr1[filtered_array]\n",
    "new_array   "
   ]
  },
  {
   "cell_type": "code",
   "execution_count": 412,
   "id": "46f15d8c-688e-4fbc-8278-be3cc7c8174d",
   "metadata": {},
   "outputs": [
    {
     "data": {
      "text/plain": [
       "array([ 2, 68, 90, 12])"
      ]
     },
     "execution_count": 412,
     "metadata": {},
     "output_type": "execute_result"
    }
   ],
   "source": [
    "myarr = np.array([23,2,68,90,3,67,12])\n",
    "filt_arr = []\n",
    "for i in myarr:\n",
    "    if(i%2==0):\n",
    "        filt_arr.append(True)\n",
    "    else:\n",
    "        filt_arr.append(False)\n",
    "\n",
    "new = myarr[filt_arr]\n",
    "new"
   ]
  },
  {
   "cell_type": "code",
   "execution_count": 414,
   "id": "b1ffb896-1587-4f1e-a612-198b9219d546",
   "metadata": {},
   "outputs": [
    {
     "data": {
      "text/plain": [
       "array([23,  3, 67])"
      ]
     },
     "execution_count": 414,
     "metadata": {},
     "output_type": "execute_result"
    }
   ],
   "source": [
    "myarr = np.array([23,2,68,90,3,67,12])\n",
    "filt_arr = []\n",
    "for i in myarr:\n",
    "    if(i%2==1):\n",
    "        filt_arr.append(True)\n",
    "    else:\n",
    "        filt_arr.append(False)\n",
    "\n",
    "new = myarr[filt_arr]\n",
    "new"
   ]
  },
  {
   "cell_type": "code",
   "execution_count": null,
   "id": "27187035-4c82-4573-8253-604e1f48b970",
   "metadata": {},
   "outputs": [],
   "source": []
  }
 ],
 "metadata": {
  "kernelspec": {
   "display_name": "Python 3 (ipykernel)",
   "language": "python",
   "name": "python3"
  },
  "language_info": {
   "codemirror_mode": {
    "name": "ipython",
    "version": 3
   },
   "file_extension": ".py",
   "mimetype": "text/x-python",
   "name": "python",
   "nbconvert_exporter": "python",
   "pygments_lexer": "ipython3",
   "version": "3.11.5"
  },
  "widgets": {
   "application/vnd.jupyter.widget-state+json": {
    "state": {},
    "version_major": 2,
    "version_minor": 0
   }
  }
 },
 "nbformat": 4,
 "nbformat_minor": 5
}
