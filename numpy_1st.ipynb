{
 "cells": [
  {
   "cell_type": "markdown",
   "id": "d26eccfa-3b48-450e-bd2d-3d2381f82090",
   "metadata": {},
   "source": [
    "# NUMPY"
   ]
  },
  {
   "cell_type": "code",
   "execution_count": 2,
   "id": "0781512f-c63c-46b7-8f22-4a1155304e10",
   "metadata": {},
   "outputs": [],
   "source": [
    "import numpy as np "
   ]
  },
  {
   "cell_type": "code",
   "execution_count": 134,
   "id": "79bd8291-bcbf-4724-b18c-8b69f2049570",
   "metadata": {},
   "outputs": [
    {
     "data": {
      "text/plain": [
       "array([  1,   3, 474,   5])"
      ]
     },
     "execution_count": 134,
     "metadata": {},
     "output_type": "execute_result"
    }
   ],
   "source": [
    "arr=np.array([1,3,474,5],np.int32)\n",
    "arr"
   ]
  },
  {
   "cell_type": "code",
   "execution_count": 4,
   "id": "08a09eac-0dfa-4127-b333-571ae24c322e",
   "metadata": {},
   "outputs": [
    {
     "data": {
      "text/plain": [
       "numpy.ndarray"
      ]
     },
     "execution_count": 4,
     "metadata": {},
     "output_type": "execute_result"
    }
   ],
   "source": [
    "type(arr)"
   ]
  },
  {
   "cell_type": "code",
   "execution_count": 5,
   "id": "9138d996-383b-4cca-84b9-f62908350856",
   "metadata": {},
   "outputs": [
    {
     "data": {
      "text/plain": [
       "1"
      ]
     },
     "execution_count": 5,
     "metadata": {},
     "output_type": "execute_result"
    }
   ],
   "source": [
    "arr[0]"
   ]
  },
  {
   "cell_type": "code",
   "execution_count": 6,
   "id": "291f605d-d12d-4aad-b446-d3ec2c453036",
   "metadata": {},
   "outputs": [
    {
     "data": {
      "text/plain": [
       "47"
      ]
     },
     "execution_count": 6,
     "metadata": {},
     "output_type": "execute_result"
    }
   ],
   "source": [
    "arr[2]"
   ]
  },
  {
   "cell_type": "code",
   "execution_count": 7,
   "id": "c4545c04-0c3e-4abc-b291-da231495501f",
   "metadata": {},
   "outputs": [
    {
     "data": {
      "text/plain": [
       "5"
      ]
     },
     "execution_count": 7,
     "metadata": {},
     "output_type": "execute_result"
    }
   ],
   "source": [
    "arr[3]"
   ]
  },
  {
   "cell_type": "code",
   "execution_count": 8,
   "id": "5d40911a-4f50-40d1-8847-1d2c4b61ebec",
   "metadata": {},
   "outputs": [
    {
     "data": {
      "text/plain": [
       "array([[ 1,  2,  3,  4,  5],\n",
       "       [ 6,  7,  9,  4, 10]])"
      ]
     },
     "execution_count": 8,
     "metadata": {},
     "output_type": "execute_result"
    }
   ],
   "source": [
    "myarr=np.array([[1,2,3,4,5],[6,7,9,4,10]])\n",
    "myarr"
   ]
  },
  {
   "cell_type": "code",
   "execution_count": 9,
   "id": "84a40632-4fd9-4f83-94e4-74b82ab4ff62",
   "metadata": {},
   "outputs": [
    {
     "data": {
      "text/plain": [
       "2"
      ]
     },
     "execution_count": 9,
     "metadata": {},
     "output_type": "execute_result"
    }
   ],
   "source": [
    "myarr[0,1]"
   ]
  },
  {
   "cell_type": "code",
   "execution_count": 10,
   "id": "25d930cb-42cd-4be5-880c-dd508907bee6",
   "metadata": {},
   "outputs": [
    {
     "data": {
      "text/plain": [
       "5"
      ]
     },
     "execution_count": 10,
     "metadata": {},
     "output_type": "execute_result"
    }
   ],
   "source": [
    "myarr[0,4]"
   ]
  },
  {
   "cell_type": "code",
   "execution_count": 11,
   "id": "f617dec6-664b-4032-b675-e3c1d1ed16a5",
   "metadata": {},
   "outputs": [
    {
     "data": {
      "text/plain": [
       "9"
      ]
     },
     "execution_count": 11,
     "metadata": {},
     "output_type": "execute_result"
    }
   ],
   "source": [
    "myarr[1,2]"
   ]
  },
  {
   "cell_type": "code",
   "execution_count": 12,
   "id": "613d749c-00fb-41bd-8853-04921ec3dd59",
   "metadata": {},
   "outputs": [
    {
     "data": {
      "text/plain": [
       "(2, 5)"
      ]
     },
     "execution_count": 12,
     "metadata": {},
     "output_type": "execute_result"
    }
   ],
   "source": [
    "myarr.shape"
   ]
  },
  {
   "cell_type": "code",
   "execution_count": 13,
   "id": "de5bdaf7-0a9b-4181-9350-68b6be1a2726",
   "metadata": {},
   "outputs": [
    {
     "data": {
      "text/plain": [
       "dtype('int32')"
      ]
     },
     "execution_count": 13,
     "metadata": {},
     "output_type": "execute_result"
    }
   ],
   "source": [
    "myarr.dtype"
   ]
  },
  {
   "cell_type": "code",
   "execution_count": 14,
   "id": "ea8175c7-9f2d-459b-9a68-47a7760af7eb",
   "metadata": {},
   "outputs": [
    {
     "name": "stdout",
     "output_type": "stream",
     "text": [
      "[b'1' b'2' b'3' b'4']\n",
      "|S1\n"
     ]
    }
   ],
   "source": [
    "\n",
    "\n",
    "arr = np.array([1, 2, 3, 4], dtype='S')\n",
    "\n",
    "print(arr)\n",
    "print(arr.dtype)\n"
   ]
  },
  {
   "cell_type": "code",
   "execution_count": 15,
   "id": "f3a78f9d-731e-4d23-947e-aa2be629e824",
   "metadata": {},
   "outputs": [
    {
     "data": {
      "text/plain": [
       "array([[ 1,  2,  3,  4,  5],\n",
       "       [ 6,  7,  9,  4, 10]])"
      ]
     },
     "execution_count": 15,
     "metadata": {},
     "output_type": "execute_result"
    }
   ],
   "source": [
    "myarr"
   ]
  },
  {
   "cell_type": "code",
   "execution_count": 16,
   "id": "b94aef1b-f6b3-42c9-89ba-c061ffac0f65",
   "metadata": {},
   "outputs": [],
   "source": [
    "myarr[0,3]=14"
   ]
  },
  {
   "cell_type": "code",
   "execution_count": 17,
   "id": "c7975d2b-d7ad-40a9-88bd-be0009c187b9",
   "metadata": {},
   "outputs": [
    {
     "data": {
      "text/plain": [
       "array([[ 1,  2,  3, 14,  5],\n",
       "       [ 6,  7,  9,  4, 10]])"
      ]
     },
     "execution_count": 17,
     "metadata": {},
     "output_type": "execute_result"
    }
   ],
   "source": [
    "myarr"
   ]
  },
  {
   "cell_type": "code",
   "execution_count": 18,
   "id": "4b71e0ee-e98c-499c-a547-13341a5dbceb",
   "metadata": {},
   "outputs": [],
   "source": [
    "import numpy as n\n",
    "\n",
    "arr1=n.array([11,23,45])"
   ]
  },
  {
   "cell_type": "code",
   "execution_count": 19,
   "id": "b5d2fb54-d509-4e10-9569-e94c1f19756b",
   "metadata": {},
   "outputs": [
    {
     "data": {
      "text/plain": [
       "array([11, 23, 45])"
      ]
     },
     "execution_count": 19,
     "metadata": {},
     "output_type": "execute_result"
    }
   ],
   "source": [
    "arr1"
   ]
  },
  {
   "cell_type": "code",
   "execution_count": 20,
   "id": "4a2a67c1-1426-4f5a-8160-49832145bc33",
   "metadata": {},
   "outputs": [
    {
     "data": {
      "text/plain": [
       "array([1, 3, 4, 5])"
      ]
     },
     "execution_count": 20,
     "metadata": {},
     "output_type": "execute_result"
    }
   ],
   "source": [
    "newarr=np.array((1,3,4,5))\n",
    "newarr"
   ]
  },
  {
   "cell_type": "markdown",
   "id": "9591ca04-0f4c-4301-85b4-7133fb56059f",
   "metadata": {},
   "source": [
    "# Array Creation - Conversion from other python structures"
   ]
  },
  {
   "cell_type": "markdown",
   "id": "3d494e9f-fa12-4a1c-a678-88605271e28d",
   "metadata": {},
   "source": [
    "**From LIST**"
   ]
  },
  {
   "cell_type": "code",
   "execution_count": 23,
   "id": "a40db6a5-cd35-46de-b1c2-dae0b2904ee5",
   "metadata": {},
   "outputs": [
    {
     "data": {
      "text/plain": [
       "dtype('int32')"
      ]
     },
     "execution_count": 23,
     "metadata": {},
     "output_type": "execute_result"
    }
   ],
   "source": [
    "listarray = np.array([1,2,3,4])\n",
    "listarray\n",
    "listarray.dtype"
   ]
  },
  {
   "cell_type": "markdown",
   "id": "e49eb36f-7b64-4f2f-aaf1-af01638d7cf1",
   "metadata": {},
   "source": [
    "**From TUPLE**"
   ]
  },
  {
   "cell_type": "code",
   "execution_count": 140,
   "id": "c3333747-515e-4c22-8b81-7c0916c5ebf9",
   "metadata": {},
   "outputs": [
    {
     "name": "stdout",
     "output_type": "stream",
     "text": [
      "[1 2 3 4]\n"
     ]
    }
   ],
   "source": [
    "tup_array=np.array((1,2,3,4))\n",
    "print(tup_array)"
   ]
  },
  {
   "cell_type": "code",
   "execution_count": 136,
   "id": "397ee7fb-93f0-44fb-8fc1-9392fa546a2d",
   "metadata": {},
   "outputs": [
    {
     "data": {
      "text/plain": [
       "array([[1, 4, 5, 6],\n",
       "       [2, 4, 1, 5]])"
      ]
     },
     "execution_count": 136,
     "metadata": {},
     "output_type": "execute_result"
    }
   ],
   "source": [
    "tuplearray = np.array(((1,4,5,6),(2,4,1,5)))\n",
    "tuplearray"
   ]
  },
  {
   "cell_type": "code",
   "execution_count": 26,
   "id": "d69bcb57-ac69-4550-ad52-064e3169cd6a",
   "metadata": {},
   "outputs": [
    {
     "data": {
      "text/plain": [
       "(4,)"
      ]
     },
     "execution_count": 26,
     "metadata": {},
     "output_type": "execute_result"
    }
   ],
   "source": [
    "tuplearray.shape"
   ]
  },
  {
   "cell_type": "code",
   "execution_count": 27,
   "id": "18d91b67-f563-4945-b6fe-3d9b1c08ae86",
   "metadata": {},
   "outputs": [
    {
     "data": {
      "text/plain": [
       "4"
      ]
     },
     "execution_count": 27,
     "metadata": {},
     "output_type": "execute_result"
    }
   ],
   "source": [
    "tuplearray.size"
   ]
  },
  {
   "cell_type": "code",
   "execution_count": 28,
   "id": "e8a38735-57d2-4dad-89f7-865b0ae32241",
   "metadata": {},
   "outputs": [
    {
     "data": {
      "text/plain": [
       "dtype('int32')"
      ]
     },
     "execution_count": 28,
     "metadata": {},
     "output_type": "execute_result"
    }
   ],
   "source": [
    "tuplearray.dtype"
   ]
  },
  {
   "cell_type": "markdown",
   "id": "630c6608-3fd7-4df9-99d0-968a02f46eb3",
   "metadata": {},
   "source": [
    "**From SET**"
   ]
  },
  {
   "cell_type": "code",
   "execution_count": 30,
   "id": "f5acadff-c23f-4b43-b89a-58e46116f8e4",
   "metadata": {},
   "outputs": [
    {
     "data": {
      "text/plain": [
       "array({1, 2, 3, 4}, dtype=object)"
      ]
     },
     "execution_count": 30,
     "metadata": {},
     "output_type": "execute_result"
    }
   ],
   "source": [
    "setarray = np.array({1,2,3,4})\n",
    "setarray"
   ]
  },
  {
   "cell_type": "code",
   "execution_count": 31,
   "id": "c5ab756d-3388-419c-a8b2-3e39e9641424",
   "metadata": {},
   "outputs": [
    {
     "data": {
      "text/plain": [
       "dtype('O')"
      ]
     },
     "execution_count": 31,
     "metadata": {},
     "output_type": "execute_result"
    }
   ],
   "source": [
    "setarray.dtype"
   ]
  },
  {
   "cell_type": "markdown",
   "id": "e4935b1e-da42-4388-9f61-291f7005bd37",
   "metadata": {},
   "source": [
    "# Array Creation - Intrinsic numpy array creation objects "
   ]
  },
  {
   "cell_type": "markdown",
   "id": "2198afdc-6cb1-4a3c-b099-64ea5ddf107d",
   "metadata": {},
   "source": [
    "**zeros()**"
   ]
  },
  {
   "cell_type": "code",
   "execution_count": 34,
   "id": "a4e98360-6fcb-4cc0-ab17-c17377f2aac2",
   "metadata": {},
   "outputs": [
    {
     "data": {
      "text/plain": [
       "array([[0., 0., 0., 0., 0.],\n",
       "       [0., 0., 0., 0., 0.]])"
      ]
     },
     "execution_count": 34,
     "metadata": {},
     "output_type": "execute_result"
    }
   ],
   "source": [
    "zeros = np.zeros((2,5))\n",
    "zeros"
   ]
  },
  {
   "cell_type": "markdown",
   "id": "a160b1ae-9a97-4030-ae6d-06f5d8a5a4e2",
   "metadata": {},
   "source": [
    "**ones()**"
   ]
  },
  {
   "cell_type": "code",
   "execution_count": 36,
   "id": "8f1ef39b-f28f-4a9f-8c3c-52d65e778f5f",
   "metadata": {},
   "outputs": [
    {
     "name": "stdout",
     "output_type": "stream",
     "text": [
      "[[1. 1. 1. 1. 1.]\n",
      " [1. 1. 1. 1. 1.]]\n"
     ]
    },
    {
     "data": {
      "text/plain": [
       "dtype('float64')"
      ]
     },
     "execution_count": 36,
     "metadata": {},
     "output_type": "execute_result"
    }
   ],
   "source": [
    "ones = np.ones((2,5))\n",
    "print(ones)\n",
    "ones.dtype"
   ]
  },
  {
   "cell_type": "markdown",
   "id": "5d09b932-0fff-4cec-bf40-47f1a9d0af39",
   "metadata": {},
   "source": [
    "**arange()**"
   ]
  },
  {
   "cell_type": "code",
   "execution_count": 38,
   "id": "ec264d16-085a-46b0-9c63-d5819557a083",
   "metadata": {},
   "outputs": [
    {
     "data": {
      "text/plain": [
       "array([0, 1, 2, 3, 4])"
      ]
     },
     "execution_count": 38,
     "metadata": {},
     "output_type": "execute_result"
    }
   ],
   "source": [
    "rng = np.arange(5)\n",
    "rng"
   ]
  },
  {
   "cell_type": "code",
   "execution_count": 39,
   "id": "b37a9efb-f18b-4858-8f0e-2498c1be5700",
   "metadata": {},
   "outputs": [
    {
     "data": {
      "text/plain": [
       "dtype('float32')"
      ]
     },
     "execution_count": 39,
     "metadata": {},
     "output_type": "execute_result"
    }
   ],
   "source": [
    "ar=np.array([1.0,2.0,3.0,4.0],np.float32)\n",
    "ar.dtype"
   ]
  },
  {
   "cell_type": "code",
   "execution_count": 40,
   "id": "0f5f7fe0-85a6-4b2d-8057-a7d78c093db4",
   "metadata": {},
   "outputs": [
    {
     "data": {
      "text/plain": [
       "array([[1, 2, 3],\n",
       "       [4, 5, 6],\n",
       "       [4, 5, 7]])"
      ]
     },
     "execution_count": 40,
     "metadata": {},
     "output_type": "execute_result"
    }
   ],
   "source": [
    "ar1=np.array([[1,2,3],[4,5,6],[4,5,7]])\n",
    "ar1\n",
    "\n"
   ]
  },
  {
   "cell_type": "code",
   "execution_count": 41,
   "id": "0c3e2bbc-f05d-49cf-836a-e177da582723",
   "metadata": {},
   "outputs": [
    {
     "data": {
      "text/plain": [
       "dtype('int32')"
      ]
     },
     "execution_count": 41,
     "metadata": {},
     "output_type": "execute_result"
    }
   ],
   "source": [
    "ar1.dtype"
   ]
  },
  {
   "cell_type": "code",
   "execution_count": 42,
   "id": "e2ad8ae5-eeb4-4953-a22d-b5dbd0fbcc32",
   "metadata": {},
   "outputs": [
    {
     "data": {
      "text/plain": [
       "array([ 0,  1,  2,  3,  4,  5,  6,  7,  8,  9, 10, 11, 12, 13, 14])"
      ]
     },
     "execution_count": 42,
     "metadata": {},
     "output_type": "execute_result"
    }
   ],
   "source": [
    "rng = np.arange(15)\n",
    "rng"
   ]
  },
  {
   "cell_type": "code",
   "execution_count": 43,
   "id": "8cfe41c2-1493-4f5b-a937-b3d868abce4d",
   "metadata": {},
   "outputs": [
    {
     "data": {
      "text/plain": [
       "dtype('int32')"
      ]
     },
     "execution_count": 43,
     "metadata": {},
     "output_type": "execute_result"
    }
   ],
   "source": [
    "rng.dtype"
   ]
  },
  {
   "cell_type": "markdown",
   "id": "2f48bbb1-9c4a-4fc1-ab96-b039236afd11",
   "metadata": {},
   "source": [
    "**linspace**"
   ]
  },
  {
   "cell_type": "code",
   "execution_count": 142,
   "id": "ddffe020-6e59-4c85-8420-52c771e261c0",
   "metadata": {},
   "outputs": [
    {
     "data": {
      "text/plain": [
       "array([1., 2., 3., 4., 5.])"
      ]
     },
     "execution_count": 142,
     "metadata": {},
     "output_type": "execute_result"
    }
   ],
   "source": [
    "lspace = np.linspace(1,5,5)\n",
    "lspace"
   ]
  },
  {
   "cell_type": "code",
   "execution_count": 92,
   "id": "b38ea8b9-d311-4178-9cc9-92cdeb95aaf4",
   "metadata": {},
   "outputs": [],
   "source": [
    "lspace[0]=7.0"
   ]
  },
  {
   "cell_type": "code",
   "execution_count": 94,
   "id": "a54d2d92-e380-4e60-a43f-8049a0eb4746",
   "metadata": {},
   "outputs": [
    {
     "data": {
      "text/plain": [
       "array([7., 2., 3., 4., 5.])"
      ]
     },
     "execution_count": 94,
     "metadata": {},
     "output_type": "execute_result"
    }
   ],
   "source": [
    "lspace"
   ]
  },
  {
   "cell_type": "code",
   "execution_count": 46,
   "id": "c215b285-55e8-47a6-bb49-563a5252e111",
   "metadata": {},
   "outputs": [
    {
     "data": {
      "text/plain": [
       "dtype('float64')"
      ]
     },
     "execution_count": 46,
     "metadata": {},
     "output_type": "execute_result"
    }
   ],
   "source": [
    "lspace.dtype"
   ]
  },
  {
   "cell_type": "markdown",
   "id": "ce27e45f-5cbc-4b53-837b-00bf64f897f3",
   "metadata": {},
   "source": [
    "**empty()**"
   ]
  },
  {
   "cell_type": "code",
   "execution_count": 110,
   "id": "466a407a-53af-4f60-996a-40892ef46824",
   "metadata": {},
   "outputs": [
    {
     "data": {
      "text/plain": [
       "dtype('float64')"
      ]
     },
     "execution_count": 110,
     "metadata": {},
     "output_type": "execute_result"
    }
   ],
   "source": [
    "emt = np.empty((3,2))\n",
    "emt\n",
    "emt.dtype"
   ]
  },
  {
   "cell_type": "markdown",
   "id": "2965dc92-2989-4ed5-9a39-f4730da593cc",
   "metadata": {},
   "source": [
    "**empty_like()**"
   ]
  },
  {
   "cell_type": "code",
   "execution_count": 122,
   "id": "2bac976b-8f6a-4d40-9f9b-3d8ed9ffd6ea",
   "metadata": {},
   "outputs": [
    {
     "data": {
      "text/plain": [
       "array([7., 2., 3., 4., 5.])"
      ]
     },
     "execution_count": 122,
     "metadata": {},
     "output_type": "execute_result"
    }
   ],
   "source": [
    "emt_like = np.empty_like(lspace)\n",
    "emt_like"
   ]
  },
  {
   "cell_type": "markdown",
   "id": "0d992b9e-d536-4710-be32-c6a4bef0e31f",
   "metadata": {},
   "source": [
    "**identity()**"
   ]
  },
  {
   "cell_type": "code",
   "execution_count": 126,
   "id": "a8cf3c22-5b55-4d95-8cf5-e2d0f511257e",
   "metadata": {},
   "outputs": [
    {
     "data": {
      "text/plain": [
       "array([[1., 0., 0., 0., 0., 0., 0., 0., 0.],\n",
       "       [0., 1., 0., 0., 0., 0., 0., 0., 0.],\n",
       "       [0., 0., 1., 0., 0., 0., 0., 0., 0.],\n",
       "       [0., 0., 0., 1., 0., 0., 0., 0., 0.],\n",
       "       [0., 0., 0., 0., 1., 0., 0., 0., 0.],\n",
       "       [0., 0., 0., 0., 0., 1., 0., 0., 0.],\n",
       "       [0., 0., 0., 0., 0., 0., 1., 0., 0.],\n",
       "       [0., 0., 0., 0., 0., 0., 0., 1., 0.],\n",
       "       [0., 0., 0., 0., 0., 0., 0., 0., 1.]])"
      ]
     },
     "execution_count": 126,
     "metadata": {},
     "output_type": "execute_result"
    }
   ],
   "source": [
    "ide = np.identity(9)\n",
    "ide"
   ]
  },
  {
   "cell_type": "code",
   "execution_count": 128,
   "id": "52ad3db0-ccab-467d-a8c1-f89e68908680",
   "metadata": {},
   "outputs": [
    {
     "data": {
      "text/plain": [
       "(15,)"
      ]
     },
     "execution_count": 128,
     "metadata": {},
     "output_type": "execute_result"
    }
   ],
   "source": [
    "rng.shape"
   ]
  },
  {
   "cell_type": "code",
   "execution_count": 130,
   "id": "00387199-490e-419d-bb9a-91c8b83d9085",
   "metadata": {},
   "outputs": [
    {
     "data": {
      "text/plain": [
       "(5,)"
      ]
     },
     "execution_count": 130,
     "metadata": {},
     "output_type": "execute_result"
    }
   ],
   "source": [
    "lspace.shape"
   ]
  },
  {
   "cell_type": "code",
   "execution_count": 134,
   "id": "8e2098e5-36f0-40ca-8741-2849b3a47f18",
   "metadata": {},
   "outputs": [
    {
     "data": {
      "text/plain": [
       "(3, 3)"
      ]
     },
     "execution_count": 134,
     "metadata": {},
     "output_type": "execute_result"
    }
   ],
   "source": [
    "ar1.shape"
   ]
  },
  {
   "cell_type": "markdown",
   "id": "68e10a45-f532-4f66-9010-7967c72f41b8",
   "metadata": {},
   "source": [
    "***arange()_advanced***"
   ]
  },
  {
   "cell_type": "code",
   "execution_count": 145,
   "id": "18d515a4-4b1b-45e4-b166-a0f4c546b112",
   "metadata": {},
   "outputs": [
    {
     "data": {
      "text/plain": [
       "array([ 0,  1,  2,  3,  4,  5,  6,  7,  8,  9, 10, 11, 12, 13, 14, 15, 16,\n",
       "       17, 18, 19, 20, 21, 22, 23, 24, 25, 26, 27, 28, 29, 30, 31, 32, 33,\n",
       "       34, 35])"
      ]
     },
     "execution_count": 145,
     "metadata": {},
     "output_type": "execute_result"
    }
   ],
   "source": [
    "arr = np.arange(36)\n",
    "arr"
   ]
  },
  {
   "cell_type": "markdown",
   "id": "e7d61dad-b512-4873-807b-ae07737be899",
   "metadata": {},
   "source": [
    "***reshape()***"
   ]
  },
  {
   "cell_type": "code",
   "execution_count": 151,
   "id": "42e8d098-f2fe-4514-bd8b-413e4ecfa946",
   "metadata": {},
   "outputs": [
    {
     "data": {
      "text/plain": [
       "array([[ 0,  1,  2,  3,  4,  5,  6,  7,  8,  9, 10, 11, 12, 13, 14, 15,\n",
       "        16, 17],\n",
       "       [18, 19, 20, 21, 22, 23, 24, 25, 26, 27, 28, 29, 30, 31, 32, 33,\n",
       "        34, 35]])"
      ]
     },
     "execution_count": 151,
     "metadata": {},
     "output_type": "execute_result"
    }
   ],
   "source": [
    "arr.reshape(2,18)"
   ]
  },
  {
   "cell_type": "code",
   "execution_count": 154,
   "id": "8786b8a4-6b4c-4452-b060-9780bb2fd393",
   "metadata": {},
   "outputs": [
    {
     "data": {
      "text/plain": [
       "array([ 0,  1,  2,  3,  4,  5,  6,  7,  8,  9, 10, 11, 12, 13, 14, 15, 16,\n",
       "       17, 18, 19, 20, 21, 22, 23, 24, 25, 26, 27, 28, 29, 30, 31, 32, 33,\n",
       "       34, 35, 36, 37, 38, 39, 40, 41, 42, 43, 44, 45, 46, 47, 48, 49, 50,\n",
       "       51, 52, 53, 54, 55, 56, 57, 58, 59, 60, 61, 62, 63, 64, 65, 66, 67,\n",
       "       68, 69, 70, 71])"
      ]
     },
     "execution_count": 154,
     "metadata": {},
     "output_type": "execute_result"
    }
   ],
   "source": [
    "arr = np.arange(72)\n",
    "arr"
   ]
  },
  {
   "cell_type": "markdown",
   "id": "636da045-77cb-4668-bb37-fca22b579580",
   "metadata": {},
   "source": [
    "arr.reshape(6,12)"
   ]
  },
  {
   "cell_type": "code",
   "execution_count": 158,
   "id": "44b5fcf6-9c50-4cad-abda-3f010b684f50",
   "metadata": {},
   "outputs": [
    {
     "data": {
      "text/plain": [
       "array([0, 1, 2, 3, 4, 5, 6, 7, 8, 9])"
      ]
     },
     "execution_count": 158,
     "metadata": {},
     "output_type": "execute_result"
    }
   ],
   "source": [
    "arr=np.arange(10)\n",
    "arr"
   ]
  },
  {
   "cell_type": "code",
   "execution_count": 160,
   "id": "a2c37f83-ba0f-4c37-987e-b1321668e1e5",
   "metadata": {},
   "outputs": [
    {
     "data": {
      "text/plain": [
       "array([[0, 1],\n",
       "       [2, 3],\n",
       "       [4, 5],\n",
       "       [6, 7],\n",
       "       [8, 9]])"
      ]
     },
     "execution_count": 160,
     "metadata": {},
     "output_type": "execute_result"
    }
   ],
   "source": [
    "arr.reshape(5,2)"
   ]
  },
  {
   "cell_type": "markdown",
   "id": "ebb72854-1849-47c3-a0e7-16a443b05264",
   "metadata": {},
   "source": [
    "# NUMPY AXIS"
   ]
  },
  {
   "cell_type": "code",
   "execution_count": 53,
   "id": "ae9f6720-ffd8-44fd-a07a-09eeef2e43ee",
   "metadata": {},
   "outputs": [
    {
     "data": {
      "text/plain": [
       "[[1, 2, 3], [4, 5, 6], [7, 8, 9]]"
      ]
     },
     "execution_count": 53,
     "metadata": {},
     "output_type": "execute_result"
    }
   ],
   "source": [
    "x = [[1,2,3],[4,5,6],[7,8,9]]\n",
    "x"
   ]
  },
  {
   "cell_type": "code",
   "execution_count": 5,
   "id": "632780a9-11f2-4637-9e10-bd17bad6f136",
   "metadata": {},
   "outputs": [
    {
     "data": {
      "text/plain": [
       "[[1, 2, 3], [4, 5, 10], [7, 8, 9]]"
      ]
     },
     "execution_count": 5,
     "metadata": {},
     "output_type": "execute_result"
    }
   ],
   "source": [
    "x[1][2]=10\n",
    "x"
   ]
  },
  {
   "cell_type": "code",
   "execution_count": 55,
   "id": "d57cbcfd-c9e8-4233-aea9-d11db038be46",
   "metadata": {},
   "outputs": [
    {
     "data": {
      "text/plain": [
       "array([[1, 2, 3],\n",
       "       [4, 5, 6],\n",
       "       [7, 8, 9]])"
      ]
     },
     "execution_count": 55,
     "metadata": {},
     "output_type": "execute_result"
    }
   ],
   "source": [
    "x = np.array(x)\n",
    "x"
   ]
  },
  {
   "cell_type": "code",
   "execution_count": 21,
   "id": "55eca48e-164f-4327-8a22-da7ef25d3f11",
   "metadata": {},
   "outputs": [
    {
     "data": {
      "text/plain": [
       "(3, 3)"
      ]
     },
     "execution_count": 21,
     "metadata": {},
     "output_type": "execute_result"
    }
   ],
   "source": [
    "x.shape"
   ]
  },
  {
   "cell_type": "code",
   "execution_count": 23,
   "id": "c8f21b2f-377c-4b8f-bf0a-ba8490a53168",
   "metadata": {},
   "outputs": [
    {
     "data": {
      "text/plain": [
       "array([[ 1,  2,  3],\n",
       "       [ 4, 10, 10],\n",
       "       [ 7,  8,  9]])"
      ]
     },
     "execution_count": 23,
     "metadata": {},
     "output_type": "execute_result"
    }
   ],
   "source": [
    "x[1,1]=10\n",
    "x"
   ]
  },
  {
   "cell_type": "code",
   "execution_count": 57,
   "id": "70217058-3739-443f-9598-8a8c9cff78b0",
   "metadata": {},
   "outputs": [
    {
     "data": {
      "text/plain": [
       "45"
      ]
     },
     "execution_count": 57,
     "metadata": {},
     "output_type": "execute_result"
    }
   ],
   "source": [
    "x.sum()"
   ]
  },
  {
   "cell_type": "code",
   "execution_count": 59,
   "id": "ac4e9c59-a548-44b7-ae32-21291e78a822",
   "metadata": {},
   "outputs": [
    {
     "data": {
      "text/plain": [
       "array([ 6, 15, 24])"
      ]
     },
     "execution_count": 59,
     "metadata": {},
     "output_type": "execute_result"
    }
   ],
   "source": [
    "x.sum(axis=1)"
   ]
  },
  {
   "cell_type": "code",
   "execution_count": 61,
   "id": "112b6df2-8e5d-485c-b5ad-0bfb86ca825c",
   "metadata": {},
   "outputs": [
    {
     "data": {
      "text/plain": [
       "array([7, 8, 9])"
      ]
     },
     "execution_count": 61,
     "metadata": {},
     "output_type": "execute_result"
    }
   ],
   "source": [
    "x.max(axis=0)"
   ]
  },
  {
   "cell_type": "code",
   "execution_count": 63,
   "id": "0908af43-a995-423a-8033-c5cb98734ada",
   "metadata": {},
   "outputs": [
    {
     "data": {
      "text/plain": [
       "array([1, 4, 7])"
      ]
     },
     "execution_count": 63,
     "metadata": {},
     "output_type": "execute_result"
    }
   ],
   "source": [
    "x.min(axis=1)"
   ]
  },
  {
   "cell_type": "code",
   "execution_count": 65,
   "id": "cb56f9c9-1e4f-473a-9aa4-d4f2c961df31",
   "metadata": {},
   "outputs": [
    {
     "data": {
      "text/plain": [
       "array([3, 6, 9])"
      ]
     },
     "execution_count": 65,
     "metadata": {},
     "output_type": "execute_result"
    }
   ],
   "source": [
    "x.max(axis=1)"
   ]
  },
  {
   "cell_type": "markdown",
   "id": "2687dda4-b20f-443f-9dc5-9b8a66f5d579",
   "metadata": {},
   "source": [
    "# Attributes"
   ]
  },
  {
   "cell_type": "code",
   "execution_count": 67,
   "id": "11e2c68a-8454-4c36-b10d-e620e6444cea",
   "metadata": {},
   "outputs": [
    {
     "data": {
      "text/plain": [
       "array([[1, 2, 3],\n",
       "       [4, 5, 6],\n",
       "       [7, 8, 9]])"
      ]
     },
     "execution_count": 67,
     "metadata": {},
     "output_type": "execute_result"
    }
   ],
   "source": [
    "x"
   ]
  },
  {
   "cell_type": "code",
   "execution_count": 69,
   "id": "abd114fa-7e52-414c-b209-be5a59ce07b8",
   "metadata": {},
   "outputs": [
    {
     "data": {
      "text/plain": [
       "array([[1, 4, 7],\n",
       "       [2, 5, 8],\n",
       "       [3, 6, 9]])"
      ]
     },
     "execution_count": 69,
     "metadata": {},
     "output_type": "execute_result"
    }
   ],
   "source": [
    "x.T"
   ]
  },
  {
   "cell_type": "code",
   "execution_count": 98,
   "id": "f81d2eed-ef72-49b8-9cf7-14222543244d",
   "metadata": {},
   "outputs": [
    {
     "data": {
      "text/plain": [
       "array([[1, 2, 3],\n",
       "       [4, 5, 6],\n",
       "       [7, 8, 9]])"
      ]
     },
     "execution_count": 98,
     "metadata": {},
     "output_type": "execute_result"
    }
   ],
   "source": [
    "arr=np.array(x)\n",
    "arr"
   ]
  },
  {
   "cell_type": "code",
   "execution_count": 102,
   "id": "44287492-6a37-4fc1-8345-14af8cea440e",
   "metadata": {},
   "outputs": [
    {
     "data": {
      "text/plain": [
       "<numpy.flatiter at 0x2183648ad00>"
      ]
     },
     "execution_count": 102,
     "metadata": {},
     "output_type": "execute_result"
    }
   ],
   "source": [
    "arr.flat"
   ]
  },
  {
   "cell_type": "code",
   "execution_count": 88,
   "id": "d33be99b-bad0-4b46-9aa4-e6391db4f034",
   "metadata": {},
   "outputs": [
    {
     "name": "stdout",
     "output_type": "stream",
     "text": [
      "[1 2 3]\n",
      "[4 5 6]\n",
      "[7 8 9]\n"
     ]
    }
   ],
   "source": [
    "for i in arr:\n",
    "    print(i)\n"
   ]
  },
  {
   "cell_type": "code",
   "execution_count": 90,
   "id": "3176bb35-0419-4906-bf38-a83fe923f4d8",
   "metadata": {},
   "outputs": [
    {
     "name": "stdout",
     "output_type": "stream",
     "text": [
      "1\n",
      "2\n",
      "3\n",
      "4\n",
      "5\n",
      "6\n",
      "7\n",
      "8\n",
      "9\n"
     ]
    }
   ],
   "source": [
    "for i in arr.flat:\n",
    "    print(i)"
   ]
  },
  {
   "cell_type": "code",
   "execution_count": 96,
   "id": "827063b8-89f3-46d8-986f-7186fb3203eb",
   "metadata": {},
   "outputs": [
    {
     "name": "stdout",
     "output_type": "stream",
     "text": [
      "1\n",
      "2\n",
      "3\n",
      "4\n",
      "5\n",
      "6\n",
      "7\n",
      "8\n",
      "9\n"
     ]
    }
   ],
   "source": [
    "arr =np.array([[1,2,3],[4,5,6],[7,8,9]])\n",
    "for i in arr.flat:\n",
    "    print(i)"
   ]
  },
  {
   "cell_type": "code",
   "execution_count": 104,
   "id": "1a406981-2be5-4e5c-b8a7-42bb15874397",
   "metadata": {},
   "outputs": [
    {
     "data": {
      "text/plain": [
       "2"
      ]
     },
     "execution_count": 104,
     "metadata": {},
     "output_type": "execute_result"
    }
   ],
   "source": [
    "arr.ndim"
   ]
  },
  {
   "cell_type": "code",
   "execution_count": 108,
   "id": "f443da37-545d-4862-9585-0d5cbc5955fa",
   "metadata": {},
   "outputs": [
    {
     "data": {
      "text/plain": [
       "1"
      ]
     },
     "execution_count": 108,
     "metadata": {},
     "output_type": "execute_result"
    }
   ],
   "source": [
    "x=np.array([1,2,4])\n",
    "x.ndim"
   ]
  },
  {
   "cell_type": "code",
   "execution_count": 140,
   "id": "2ba4eb71-c921-4750-afad-2fe38459ccc0",
   "metadata": {},
   "outputs": [
    {
     "name": "stdout",
     "output_type": "stream",
     "text": [
      "0\n",
      "1\n",
      "2\n",
      "3\n"
     ]
    }
   ],
   "source": [
    "#Check your array dimension\n",
    "a = np.array(42)\n",
    "b = np.array([1, 2, 3, 4, 5])\n",
    "c = np.array([[1, 2, 3], [4, 5, 6]])\n",
    "d = np.array([[[1, 2, 3], [4, 5, 6]], [[1, 2, 3], [4, 5, 6]]])\n",
    "\n",
    "print(a.ndim)\n",
    "print(b.ndim)\n",
    "print(c.ndim)\n",
    "print(d.ndim)"
   ]
  },
  {
   "cell_type": "code",
   "execution_count": 112,
   "id": "ca999ed0-521e-4577-850d-50f9687d8726",
   "metadata": {},
   "outputs": [
    {
     "name": "stdout",
     "output_type": "stream",
     "text": [
      "9\n",
      "3\n"
     ]
    }
   ],
   "source": [
    "print(arr.size)\n",
    "print(x.size)"
   ]
  },
  {
   "cell_type": "code",
   "execution_count": 114,
   "id": "b0d1eb1b-9f97-4ed4-b57c-e2354a953520",
   "metadata": {},
   "outputs": [
    {
     "name": "stdout",
     "output_type": "stream",
     "text": [
      "(3, 3)\n",
      "(3,)\n"
     ]
    }
   ],
   "source": [
    "print(arr.shape)\n",
    "print(x.shape)"
   ]
  },
  {
   "cell_type": "code",
   "execution_count": 126,
   "id": "6f190595-20cd-4917-aa57-aca73e9ddec7",
   "metadata": {},
   "outputs": [
    {
     "data": {
      "text/plain": [
       "36"
      ]
     },
     "execution_count": 126,
     "metadata": {},
     "output_type": "execute_result"
    }
   ],
   "source": [
    "arr.nbytes"
   ]
  },
  {
   "cell_type": "code",
   "execution_count": 128,
   "id": "3e635f03-25b5-411b-8fc7-2196b2e2b521",
   "metadata": {},
   "outputs": [
    {
     "data": {
      "text/plain": [
       "array([[1, 2, 3],\n",
       "       [4, 5, 6],\n",
       "       [7, 8, 9]])"
      ]
     },
     "execution_count": 128,
     "metadata": {},
     "output_type": "execute_result"
    }
   ],
   "source": [
    "arr"
   ]
  },
  {
   "cell_type": "code",
   "execution_count": 130,
   "id": "d9f83a66-5dd7-4b18-b464-0b8d33649463",
   "metadata": {},
   "outputs": [
    {
     "data": {
      "text/plain": [
       "array([  1,   2, 376,   8])"
      ]
     },
     "execution_count": 130,
     "metadata": {},
     "output_type": "execute_result"
    }
   ],
   "source": [
    "myarr = np.array([1,2,376,8])\n",
    "myarr"
   ]
  },
  {
   "cell_type": "markdown",
   "id": "f9c4180b-b63b-4b03-bde0-bae8b154ba9d",
   "metadata": {},
   "source": [
    "# Methods()"
   ]
  },
  {
   "cell_type": "code",
   "execution_count": 172,
   "id": "6d0bb57c-f640-47d2-9983-97a6128f842a",
   "metadata": {},
   "outputs": [],
   "source": [
    "#1D array\n",
    "arr1 = np.array([45,8,3])\n",
    "#2D array\n",
    "arr2 = np.array([[20,52,3],[31,0,7],[34,88,10]])"
   ]
  },
  {
   "cell_type": "markdown",
   "id": "4bc77389-abf6-4d69-bd11-fd9a44dedfea",
   "metadata": {},
   "source": [
    "**sort()**"
   ]
  },
  {
   "cell_type": "code",
   "execution_count": 163,
   "id": "eca4657b-9135-46ae-94ef-d81eb62613d4",
   "metadata": {},
   "outputs": [
    {
     "data": {
      "text/plain": [
       "array([ 3,  8, 45])"
      ]
     },
     "execution_count": 163,
     "metadata": {},
     "output_type": "execute_result"
    }
   ],
   "source": [
    "# sorting on 1D array\n",
    "arr1.sort()\n",
    "arr1"
   ]
  },
  {
   "cell_type": "code",
   "execution_count": 165,
   "id": "52badee9-cb71-47f7-85c7-b5d0ddb6dc00",
   "metadata": {},
   "outputs": [
    {
     "data": {
      "text/plain": [
       "array([[ 3, 20, 52],\n",
       "       [ 0,  7, 31],\n",
       "       [10, 34, 88]])"
      ]
     },
     "execution_count": 165,
     "metadata": {},
     "output_type": "execute_result"
    }
   ],
   "source": [
    "#sorting on 2D array\n",
    "arr2.sort()\n",
    "arr2"
   ]
  },
  {
   "cell_type": "markdown",
   "id": "9aa73050-010c-4f58-b680-3e8a4fc8cb01",
   "metadata": {},
   "source": [
    "**argmax()**"
   ]
  },
  {
   "cell_type": "code",
   "execution_count": 174,
   "id": "5eb5e986-3f3f-43cc-9692-06777e4e6c43",
   "metadata": {},
   "outputs": [
    {
     "data": {
      "text/plain": [
       "0"
      ]
     },
     "execution_count": 174,
     "metadata": {},
     "output_type": "execute_result"
    }
   ],
   "source": [
    "#argmax on 1D array\n",
    "arr1.argmax()\n"
   ]
  },
  {
   "cell_type": "code",
   "execution_count": 176,
   "id": "7c1b4852-b2bc-4090-b3bf-7a83f9e804a4",
   "metadata": {},
   "outputs": [
    {
     "data": {
      "text/plain": [
       "7"
      ]
     },
     "execution_count": 176,
     "metadata": {},
     "output_type": "execute_result"
    }
   ],
   "source": [
    "#argmax() on 2D array\n",
    "arr2.argmax()"
   ]
  },
  {
   "cell_type": "markdown",
   "id": "bf5240b8-fbfd-4998-8dfa-4a741213c852",
   "metadata": {},
   "source": [
    "**argmin()**"
   ]
  },
  {
   "cell_type": "code",
   "execution_count": 181,
   "id": "9acaed8a-225c-4f50-bb5f-2bcef778a71e",
   "metadata": {},
   "outputs": [
    {
     "data": {
      "text/plain": [
       "array([45,  8,  3])"
      ]
     },
     "execution_count": 181,
     "metadata": {},
     "output_type": "execute_result"
    }
   ],
   "source": [
    "#1D array\n",
    "arr1 = np.array([45,8,3])\n",
    "arr1"
   ]
  },
  {
   "cell_type": "code",
   "execution_count": 183,
   "id": "11218e4d-c420-49ee-876b-8e1d91a3911d",
   "metadata": {},
   "outputs": [
    {
     "data": {
      "text/plain": [
       "2"
      ]
     },
     "execution_count": 183,
     "metadata": {},
     "output_type": "execute_result"
    }
   ],
   "source": [
    "#argmin() on 1D array\n",
    "arr1.argmin()"
   ]
  },
  {
   "cell_type": "code",
   "execution_count": 185,
   "id": "d7f82f9a-3940-4a38-8295-f85082b435a4",
   "metadata": {},
   "outputs": [
    {
     "data": {
      "text/plain": [
       "array([[20, 52,  3],\n",
       "       [31,  0,  7],\n",
       "       [34, 88, 10]])"
      ]
     },
     "execution_count": 185,
     "metadata": {},
     "output_type": "execute_result"
    }
   ],
   "source": [
    "#2D array\n",
    "arr2 = np.array([[20,52,3],[31,0,7],[34,88,10]])\n",
    "arr2"
   ]
  },
  {
   "cell_type": "code",
   "execution_count": 189,
   "id": "eeda51ed-b41c-462b-ad15-b4cbef3426b9",
   "metadata": {},
   "outputs": [
    {
     "data": {
      "text/plain": [
       "4"
      ]
     },
     "execution_count": 189,
     "metadata": {},
     "output_type": "execute_result"
    }
   ],
   "source": [
    "#argmin() on 2D array\n",
    "arr2.argmin()"
   ]
  },
  {
   "cell_type": "markdown",
   "id": "67162a13-9ac4-4aeb-829e-8758b9dd2a9e",
   "metadata": {},
   "source": [
    "**argsort()**"
   ]
  },
  {
   "cell_type": "code",
   "execution_count": 208,
   "id": "372ac8ff-babb-48fe-96d2-83d119cd624a",
   "metadata": {},
   "outputs": [
    {
     "data": {
      "text/plain": [
       "array([45,  8,  3, 45,  2, 99,  1])"
      ]
     },
     "execution_count": 208,
     "metadata": {},
     "output_type": "execute_result"
    }
   ],
   "source": [
    "#1D array\n",
    "arr1 = np.array([45,8,3,45,2,99,1])\n",
    "arr1"
   ]
  },
  {
   "cell_type": "code",
   "execution_count": 210,
   "id": "2c57a3af-531a-481a-a9fe-45b4b9caead9",
   "metadata": {},
   "outputs": [
    {
     "data": {
      "text/plain": [
       "array([6, 4, 2, 1, 0, 3, 5], dtype=int64)"
      ]
     },
     "execution_count": 210,
     "metadata": {},
     "output_type": "execute_result"
    }
   ],
   "source": [
    "#argsort() on 1D array\n",
    "arr1.argsort()"
   ]
  },
  {
   "cell_type": "code",
   "execution_count": 202,
   "id": "6ad515d0-25a5-4808-9974-9a67a3754971",
   "metadata": {},
   "outputs": [
    {
     "data": {
      "text/plain": [
       "array([[20, 52,  3],\n",
       "       [31,  0,  7],\n",
       "       [34, 88,  3]])"
      ]
     },
     "execution_count": 202,
     "metadata": {},
     "output_type": "execute_result"
    }
   ],
   "source": [
    "#2D array\n",
    "arr2 = np.array([[20,52,3],[31,0,7],[34,88,3]])\n",
    "arr2"
   ]
  },
  {
   "cell_type": "code",
   "execution_count": 206,
   "id": "2f66868e-0e3a-4f28-99d4-ad6bd4ea43c8",
   "metadata": {},
   "outputs": [
    {
     "data": {
      "text/plain": [
       "array([[2, 0, 1],\n",
       "       [1, 2, 0],\n",
       "       [2, 0, 1]], dtype=int64)"
      ]
     },
     "execution_count": 206,
     "metadata": {},
     "output_type": "execute_result"
    }
   ],
   "source": [
    "#argsort() on 2D array\n",
    "arr2.argsort()\n"
   ]
  },
  {
   "cell_type": "markdown",
   "id": "5ba83c85-2a0e-468e-9c2e-41c57bdcf1d3",
   "metadata": {},
   "source": [
    "**argmax(axis=0)**"
   ]
  },
  {
   "cell_type": "code",
   "execution_count": 217,
   "id": "999037fe-04e4-4e84-9c90-cefdc80db6d1",
   "metadata": {},
   "outputs": [
    {
     "data": {
      "text/plain": [
       "array([45,  8,  3, 45,  2, 99,  1])"
      ]
     },
     "execution_count": 217,
     "metadata": {},
     "output_type": "execute_result"
    }
   ],
   "source": [
    "arr1 = np.array([45,8,3,45,2,99,1])\n",
    "arr1"
   ]
  },
  {
   "cell_type": "code",
   "execution_count": 213,
   "id": "0b6dac78-3889-4174-8f0d-eb2d261c3dd5",
   "metadata": {},
   "outputs": [
    {
     "data": {
      "text/plain": [
       "5"
      ]
     },
     "execution_count": 213,
     "metadata": {},
     "output_type": "execute_result"
    }
   ],
   "source": [
    "#1D array\n",
    "arr1.argmax(axis=0)"
   ]
  },
  {
   "cell_type": "code",
   "execution_count": 219,
   "id": "9629d98d-8e5a-4428-b6c0-a11a0e3ed9e1",
   "metadata": {},
   "outputs": [
    {
     "data": {
      "text/plain": [
       "array([[20, 52,  3],\n",
       "       [31,  0,  7],\n",
       "       [34, 88,  3]])"
      ]
     },
     "execution_count": 219,
     "metadata": {},
     "output_type": "execute_result"
    }
   ],
   "source": [
    "#2D array\n",
    "arr2 = np.array([[20,52,3],[31,0,7],[34,88,3]])\n",
    "arr2"
   ]
  },
  {
   "cell_type": "code",
   "execution_count": 221,
   "id": "cb00eba7-ea70-42ac-bdd8-f7d5150c2e73",
   "metadata": {},
   "outputs": [
    {
     "data": {
      "text/plain": [
       "array([2, 2, 1], dtype=int64)"
      ]
     },
     "execution_count": 221,
     "metadata": {},
     "output_type": "execute_result"
    }
   ],
   "source": [
    "arr2.argmax(axis=0)"
   ]
  },
  {
   "cell_type": "markdown",
   "id": "3d1d7314-bafe-459e-89bb-b78cdcd6dec3",
   "metadata": {},
   "source": [
    "**argmin(axis=0)**"
   ]
  },
  {
   "cell_type": "code",
   "execution_count": 224,
   "id": "fb9d3ff1-6f45-4ec8-ade5-f32cc464e200",
   "metadata": {},
   "outputs": [
    {
     "data": {
      "text/plain": [
       "array([45,  8,  3, 45,  2, 99,  1])"
      ]
     },
     "execution_count": 224,
     "metadata": {},
     "output_type": "execute_result"
    }
   ],
   "source": [
    "arr1 = np.array([45,8,3,45,2,99,1])\n",
    "arr1"
   ]
  },
  {
   "cell_type": "code",
   "execution_count": 228,
   "id": "2dac8a3c-143e-4402-908f-2851408d1afa",
   "metadata": {},
   "outputs": [
    {
     "data": {
      "text/plain": [
       "6"
      ]
     },
     "execution_count": 228,
     "metadata": {},
     "output_type": "execute_result"
    }
   ],
   "source": [
    "arr1.argmin(axis=0)"
   ]
  },
  {
   "cell_type": "code",
   "execution_count": 230,
   "id": "49d5c29b-1be9-4b8f-aca7-9316971d14f6",
   "metadata": {},
   "outputs": [
    {
     "data": {
      "text/plain": [
       "array([[20, 52,  3],\n",
       "       [31,  0,  7],\n",
       "       [34, 88,  3]])"
      ]
     },
     "execution_count": 230,
     "metadata": {},
     "output_type": "execute_result"
    }
   ],
   "source": [
    "#2D array\n",
    "arr2 = np.array([[20,52,3],[31,0,7],[34,88,3]])\n",
    "arr2"
   ]
  },
  {
   "cell_type": "code",
   "execution_count": 232,
   "id": "eb8c378b-68aa-4311-b038-ef449492e6b9",
   "metadata": {},
   "outputs": [
    {
     "data": {
      "text/plain": [
       "array([0, 1, 0], dtype=int64)"
      ]
     },
     "execution_count": 232,
     "metadata": {},
     "output_type": "execute_result"
    }
   ],
   "source": [
    "arr2.argmin(axis=0)"
   ]
  },
  {
   "cell_type": "markdown",
   "id": "b83fc3e0-1259-4996-827e-98d660e3ade7",
   "metadata": {},
   "source": [
    "**argmax(axis=1)**"
   ]
  },
  {
   "cell_type": "code",
   "execution_count": 239,
   "id": "60913ad1-54ce-45be-b193-31187faeb234",
   "metadata": {},
   "outputs": [
    {
     "data": {
      "text/plain": [
       "array([1, 0, 1], dtype=int64)"
      ]
     },
     "execution_count": 239,
     "metadata": {},
     "output_type": "execute_result"
    }
   ],
   "source": [
    "arr2.argmax(axis=1)"
   ]
  },
  {
   "cell_type": "code",
   "execution_count": 241,
   "id": "82c95869-6150-4974-ac6a-f481d9ffabfe",
   "metadata": {},
   "outputs": [
    {
     "data": {
      "text/plain": [
       "array([2, 1, 2], dtype=int64)"
      ]
     },
     "execution_count": 241,
     "metadata": {},
     "output_type": "execute_result"
    }
   ],
   "source": [
    "arr2.argmin(axis=1)"
   ]
  },
  {
   "cell_type": "markdown",
   "id": "6d109f91-ab70-4109-a85d-fd2fad8abc3d",
   "metadata": {},
   "source": [
    "**argsort(axis=0)**"
   ]
  },
  {
   "cell_type": "code",
   "execution_count": 244,
   "id": "dde05a18-f84f-497a-b133-c05e115ddad2",
   "metadata": {},
   "outputs": [
    {
     "data": {
      "text/plain": [
       "array([6, 4, 2, 1, 0, 3, 5], dtype=int64)"
      ]
     },
     "execution_count": 244,
     "metadata": {},
     "output_type": "execute_result"
    }
   ],
   "source": [
    "arr1.argsort(axis=0)"
   ]
  },
  {
   "cell_type": "code",
   "execution_count": 246,
   "id": "2043310a-b410-4886-8168-ac281582eb68",
   "metadata": {},
   "outputs": [
    {
     "data": {
      "text/plain": [
       "array([[0, 1, 0],\n",
       "       [1, 0, 2],\n",
       "       [2, 2, 1]], dtype=int64)"
      ]
     },
     "execution_count": 246,
     "metadata": {},
     "output_type": "execute_result"
    }
   ],
   "source": [
    "arr2.argsort(axis=0)"
   ]
  },
  {
   "cell_type": "code",
   "execution_count": 248,
   "id": "f105b150-ccc9-48e7-9cfb-81db5ebc1a69",
   "metadata": {},
   "outputs": [
    {
     "data": {
      "text/plain": [
       "array([[2, 0, 1],\n",
       "       [1, 2, 0],\n",
       "       [2, 0, 1]], dtype=int64)"
      ]
     },
     "execution_count": 248,
     "metadata": {},
     "output_type": "execute_result"
    }
   ],
   "source": [
    "arr2.argsort(axis=1)"
   ]
  },
  {
   "cell_type": "code",
   "execution_count": null,
   "id": "fec418b5-4905-4e74-973e-a713addb0801",
   "metadata": {},
   "outputs": [],
   "source": []
  }
 ],
 "metadata": {
  "kernelspec": {
   "display_name": "Python 3 (ipykernel)",
   "language": "python",
   "name": "python3"
  },
  "language_info": {
   "codemirror_mode": {
    "name": "ipython",
    "version": 3
   },
   "file_extension": ".py",
   "mimetype": "text/x-python",
   "name": "python",
   "nbconvert_exporter": "python",
   "pygments_lexer": "ipython3",
   "version": "3.11.5"
  },
  "widgets": {
   "application/vnd.jupyter.widget-state+json": {
    "state": {},
    "version_major": 2,
    "version_minor": 0
   }
  }
 },
 "nbformat": 4,
 "nbformat_minor": 5
}
